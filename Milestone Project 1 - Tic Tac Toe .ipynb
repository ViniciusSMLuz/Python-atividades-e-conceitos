{
 "cells": [
  {
   "cell_type": "code",
   "execution_count": 2,
   "id": "eb5d87c6",
   "metadata": {},
   "outputs": [],
   "source": [
    "#print Bord em forma de lista"
   ]
  },
  {
   "cell_type": "code",
   "execution_count": null,
   "id": "c417344a",
   "metadata": {},
   "outputs": [],
   "source": [
    "from IPython.display import clear_output\n",
    "\n",
    "def display_board(board):\n",
    "    clear_output()\n",
    "    \n",
    "    print('   |   |')\n",
    "    print(' ' + board[7] + ' | ' + board[8] + ' | ' + board[9])\n",
    "    print('   |   |')\n",
    "    print('-----------')\n",
    "    print('   |   |')\n",
    "    print(' ' + board[4] + ' | ' + board[5] + ' | ' + board[6])\n",
    "    print('   |   |')\n",
    "    print('-----------')\n",
    "    print('   |   |')\n",
    "    print(' ' + board[1] + ' | ' + board[2] + ' | ' + board[3])\n",
    "    print('   |   |')"
   ]
  },
  {
   "cell_type": "code",
   "execution_count": 2,
   "id": "e7ba81ce",
   "metadata": {},
   "outputs": [
    {
     "name": "stdout",
     "output_type": "stream",
     "text": [
      "   |   |\n",
      " X | O | X\n",
      "   |   |\n",
      "-----------\n",
      "   |   |\n",
      " O | X | O\n",
      "   |   |\n",
      "-----------\n",
      "   |   |\n",
      " X | O | X\n",
      "   |   |\n"
     ]
    }
   ],
   "source": [
    "test_board = ['#','X','O','X','O','X','O','X','O','X']\n",
    "display_board(test_board)"
   ]
  },
  {
   "cell_type": "code",
   "execution_count": null,
   "id": "72517088",
   "metadata": {},
   "outputs": [],
   "source": [
    "def player_input():\n",
    "    marker = ' '\n",
    "    while marker != 'X' and marker != 'O':\n",
    "        #ou while not (marker == 'X' and marker == 'O'):\n",
    "        marker = input('Player 1: Você quer ser X ou O? ').upper()\n",
    "\n",
    "    if marker == 'X':\n",
    "        return ('X', 'O')\n",
    "    else:\n",
    "        return ('O', 'X')"
   ]
  },
  {
   "cell_type": "code",
   "execution_count": null,
   "id": "f0e45c75",
   "metadata": {},
   "outputs": [],
   "source": [
    "player_input()"
   ]
  },
  {
   "cell_type": "code",
   "execution_count": null,
   "id": "3b44bdcf",
   "metadata": {},
   "outputs": [],
   "source": [
    "def place_marker(board, marker, position):\n",
    "    board[position] = marker #função que determina a posição da marca escolhida pelo jogador"
   ]
  },
  {
   "cell_type": "code",
   "execution_count": null,
   "id": "25695063",
   "metadata": {},
   "outputs": [],
   "source": [
    "test_board"
   ]
  },
  {
   "cell_type": "code",
   "execution_count": 9,
   "id": "e9ca74bd",
   "metadata": {},
   "outputs": [
    {
     "name": "stdout",
     "output_type": "stream",
     "text": [
      "   |   |\n",
      " X | $ | X\n",
      "   |   |\n",
      "-----------\n",
      "   |   |\n",
      " O | $ | O\n",
      "   |   |\n",
      "-----------\n",
      "   |   |\n",
      " X | O | X\n",
      "   |   |\n"
     ]
    }
   ],
   "source": [
    "place_marker(test_board, '$', 5)\n",
    "display_board(test_board)"
   ]
  },
  {
   "cell_type": "code",
   "execution_count": 10,
   "id": "62b25e4c",
   "metadata": {},
   "outputs": [],
   "source": [
    "#função que recebe a marca e ve se ela ganhou"
   ]
  },
  {
   "cell_type": "code",
   "execution_count": 11,
   "id": "009437dd",
   "metadata": {},
   "outputs": [],
   "source": [
    "def win_check(board, mark):\n",
    "    #chechar as fileiras, colunas e diagonais para ver se elas tem a mesma marca\n",
    "    # tudo tem que ser igual a marca, pois se não se tudo estiver e, branco, alguém vai ter ganhado\n",
    "    return ((board[7] == mark and board[8] == mark and board[9] == mark) or # across the top\n",
    "    (board[4] == mark and board[5] == mark and board[6] == mark) or # across the middle\n",
    "    (board[1] == mark and board[2] == mark and board[3] == mark) or # across the bottom\n",
    "    (board[7] == mark and board[4] == mark and board[1] == mark) or # down the left side\n",
    "    (board[8] == mark and board[5] == mark and board[2] == mark) or # down the middle\n",
    "    (board[9] == mark and board[6] == mark and board[3] == mark) or # down the right side\n",
    "    (board[7] == mark and board[5] == mark and board[3] == mark) or # diagonal\n",
    "    (board[9] == mark and board[5] == mark and board[1] == mark)) # diagonal\n",
    "    "
   ]
  },
  {
   "cell_type": "code",
   "execution_count": 13,
   "id": "49be894f",
   "metadata": {},
   "outputs": [
    {
     "name": "stdout",
     "output_type": "stream",
     "text": [
      "   |   |\n",
      " X | $ | X\n",
      "   |   |\n",
      "-----------\n",
      "   |   |\n",
      " O | $ | O\n",
      "   |   |\n",
      "-----------\n",
      "   |   |\n",
      " X | O | X\n",
      "   |   |\n"
     ]
    },
    {
     "data": {
      "text/plain": [
       "False"
      ]
     },
     "execution_count": 13,
     "metadata": {},
     "output_type": "execute_result"
    }
   ],
   "source": [
    "display_board(test_board)\n",
    "win_check(test_board, 'X')"
   ]
  },
  {
   "cell_type": "code",
   "execution_count": 40,
   "id": "28c932e6",
   "metadata": {},
   "outputs": [],
   "source": [
    "#escrer uma função que aleatoriamente decide qual player escolhe primeiro"
   ]
  },
  {
   "cell_type": "code",
   "execution_count": 14,
   "id": "f813d343",
   "metadata": {},
   "outputs": [],
   "source": [
    "import random\n",
    "\n",
    "def choose_first():\n",
    "    if random.randint(0, 1) == 0: # escolhe aleatoriamente um desses numeros inteiros\n",
    "        return 'Player 2'\n",
    "    else:\n",
    "        return 'Player 1'"
   ]
  },
  {
   "cell_type": "code",
   "execution_count": 15,
   "id": "f3d4571e",
   "metadata": {},
   "outputs": [],
   "source": [
    "#checar se a posição esta vazia na board"
   ]
  },
  {
   "cell_type": "code",
   "execution_count": 16,
   "id": "9089aeba",
   "metadata": {},
   "outputs": [],
   "source": [
    "def space_check(board, position):\n",
    "    return board[position] == ' '"
   ]
  },
  {
   "cell_type": "code",
   "execution_count": 17,
   "id": "51298b6c",
   "metadata": {},
   "outputs": [],
   "source": [
    "#checar se a board está cheia"
   ]
  },
  {
   "cell_type": "code",
   "execution_count": 18,
   "id": "7926bd8a",
   "metadata": {},
   "outputs": [],
   "source": [
    "def full_board_check(board):\n",
    "    for i in range(1, 10):\n",
    "        if space_check(board, i): # 'i' são todas as posições do board disponíveis\n",
    "            return False\n",
    "        #esta cheia se True retornar\n",
    "        return True\n",
    "            "
   ]
  },
  {
   "cell_type": "code",
   "execution_count": 19,
   "id": "849cd20e",
   "metadata": {},
   "outputs": [],
   "source": [
    "# pede uma nova posição ao jogador e chega se a selecionda está livre"
   ]
  },
  {
   "cell_type": "code",
   "execution_count": 20,
   "id": "27ac1553",
   "metadata": {},
   "outputs": [],
   "source": [
    "def player_choice(board):\n",
    "    position = 0\n",
    "    \n",
    "    while position not in [1,2,3,4,5,6,7,8,9] or not space_check(board, position):\n",
    "        position = int(input('Escolha sua próxima posição: (1-9) '))\n",
    "        \n",
    "    return position"
   ]
  },
  {
   "cell_type": "code",
   "execution_count": 21,
   "id": "0356e705",
   "metadata": {},
   "outputs": [],
   "source": [
    "# Quer jogar denovo?"
   ]
  },
  {
   "cell_type": "code",
   "execution_count": 22,
   "id": "82e2ea23",
   "metadata": {},
   "outputs": [],
   "source": [
    "def replay():\n",
    "    \n",
    "    choice = input('Quer jogar novamente? Digite Yes ou No:')\n",
    "    return choice == 'Yes'"
   ]
  },
  {
   "cell_type": "code",
   "execution_count": 23,
   "id": "16a6f6a8",
   "metadata": {},
   "outputs": [],
   "source": [
    "#CÒDIGO DO JOGO"
   ]
  },
  {
   "cell_type": "code",
   "execution_count": null,
   "id": "022690b3",
   "metadata": {},
   "outputs": [],
   "source": [
    "#WHILE LOOP PARA CONTINUAR O JOGO\n",
    "print('Bem vindo ao Jogo da velha( Tic tac toe)')\n",
    "\n",
    "while True:\n",
    "    # Reset the board\n",
    "    theBoard = [' '] * 10\n",
    "    player1_marker, player2_marker = player_input()\n",
    "    turn = choose_first()\n",
    "    print(turn + ' vai primeiro.')\n",
    "    \n",
    "    play_game = input('Você quer jogar? Enter Yes or No.')\n",
    "    \n",
    "    if play_game.lower()[0] == 'y':\n",
    "        game_on = True\n",
    "    else:\n",
    "        game_on = False\n",
    "\n",
    "    while game_on:\n",
    "        if turn == 'Player 1':\n",
    "            # Player1's turn.\n",
    "            \n",
    "            display_board(theBoard) # mostrar a board\n",
    "            #escolher uma posição\n",
    "            position = player_choice(theBoard)\n",
    "            #definir a escolha do jogador\n",
    "            place_marker(theBoard, player1_marker, position)\n",
    "            \n",
    "\n",
    "            if win_check(theBoard, player1_marker): #checar se ele ganhou\n",
    "                display_board(theBoard)\n",
    "                print('Você ganhou!')\n",
    "                game_on = False\n",
    "            else: #decidir se é empate\n",
    "                if full_board_check(theBoard): #nome da função(onde executa-la/com o que ela se conecta)\n",
    "                    display_board(theBoard)\n",
    "                    print('Empate!')\n",
    "                    break\n",
    "                else:\n",
    "                    turn = 'Player 2'\n",
    "                    #sem empate e sem vitória? Então é a vez do outro jogador...\n",
    "\n",
    "        else:\n",
    "            # Player2's turn.\n",
    "            \n",
    "            display_board(theBoard)\n",
    "            position = player_choice(theBoard)\n",
    "            place_marker(theBoard, player2_marker, position)\n",
    "\n",
    "            if win_check(theBoard, player2_marker):\n",
    "                display_board(theBoard)\n",
    "                print('Player 2 Ganhou!')\n",
    "                game_on = False\n",
    "            else:\n",
    "                if full_board_check(theBoard):\n",
    "                    display_board(theBoard)\n",
    "                    print('Empate!')\n",
    "                    break\n",
    "                else:\n",
    "                    turn = 'Player 1'\n",
    "\n",
    "    if not replay():\n",
    "        break\n"
   ]
  },
  {
   "cell_type": "code",
   "execution_count": null,
   "id": "7dbf1a4c",
   "metadata": {},
   "outputs": [],
   "source": [
    "clear_output()"
   ]
  }
 ],
 "metadata": {
  "kernelspec": {
   "display_name": "Python 3 (ipykernel)",
   "language": "python",
   "name": "python3"
  },
  "language_info": {
   "codemirror_mode": {
    "name": "ipython",
    "version": 3
   },
   "file_extension": ".py",
   "mimetype": "text/x-python",
   "name": "python",
   "nbconvert_exporter": "python",
   "pygments_lexer": "ipython3",
   "version": "3.11.3"
  }
 },
 "nbformat": 4,
 "nbformat_minor": 5
}
