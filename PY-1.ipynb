{
 "cells": [
  {
   "cell_type": "code",
   "execution_count": null,
   "id": "4109853e",
   "metadata": {},
   "outputs": [],
   "source": [
    "2+1"
   ]
  },
  {
   "cell_type": "code",
   "execution_count": null,
   "id": "6b41fb3a",
   "metadata": {},
   "outputs": [],
   "source": [
    "a"
   ]
  },
  {
   "cell_type": "code",
   "execution_count": null,
   "id": "e6be0d61",
   "metadata": {},
   "outputs": [],
   "source": [
    "a + a"
   ]
  },
  {
   "cell_type": "code",
   "execution_count": null,
   "id": "eff4b16e",
   "metadata": {},
   "outputs": [],
   "source": [
    "type(a)\n"
   ]
  },
  {
   "cell_type": "code",
   "execution_count": null,
   "id": "c26c8327",
   "metadata": {},
   "outputs": [],
   "source": [
    "a = 30.2"
   ]
  },
  {
   "cell_type": "code",
   "execution_count": 1,
   "id": "70aaffeb",
   "metadata": {},
   "outputs": [
    {
     "ename": "NameError",
     "evalue": "name 'a' is not defined",
     "output_type": "error",
     "traceback": [
      "\u001b[1;31m---------------------------------------------------------------------------\u001b[0m",
      "\u001b[1;31mNameError\u001b[0m                                 Traceback (most recent call last)",
      "Cell \u001b[1;32mIn[1], line 1\u001b[0m\n\u001b[1;32m----> 1\u001b[0m \u001b[38;5;28mtype\u001b[39m(a)\n",
      "\u001b[1;31mNameError\u001b[0m: name 'a' is not defined"
     ]
    }
   ],
   "source": [
    "type(a)\n"
   ]
  },
  {
   "cell_type": "code",
   "execution_count": 2,
   "id": "017102b7",
   "metadata": {},
   "outputs": [
    {
     "name": "stdout",
     "output_type": "stream",
     "text": [
      "hello \n",
      "world\n"
     ]
    }
   ],
   "source": [
    "print(\"hello \\nworld\")"
   ]
  },
  {
   "cell_type": "code",
   "execution_count": 3,
   "id": "7622b3eb",
   "metadata": {},
   "outputs": [
    {
     "ename": "NameError",
     "evalue": "name 'hello' is not defined",
     "output_type": "error",
     "traceback": [
      "\u001b[1;31m---------------------------------------------------------------------------\u001b[0m",
      "\u001b[1;31mNameError\u001b[0m                                 Traceback (most recent call last)",
      "Cell \u001b[1;32mIn[3], line 1\u001b[0m\n\u001b[1;32m----> 1\u001b[0m \u001b[38;5;28mlen\u001b[39m(hello)\n",
      "\u001b[1;31mNameError\u001b[0m: name 'hello' is not defined"
     ]
    }
   ],
   "source": [
    "len(hello)"
   ]
  },
  {
   "cell_type": "code",
   "execution_count": 4,
   "id": "58503037",
   "metadata": {},
   "outputs": [
    {
     "data": {
      "text/plain": [
       "5"
      ]
     },
     "execution_count": 4,
     "metadata": {},
     "output_type": "execute_result"
    }
   ],
   "source": [
    "len(\"hello\")"
   ]
  },
  {
   "cell_type": "code",
   "execution_count": 8,
   "id": "acb24a7b",
   "metadata": {},
   "outputs": [],
   "source": [
    "mystring = \"Hello World\""
   ]
  },
  {
   "cell_type": "code",
   "execution_count": 9,
   "id": "bfae4ce7",
   "metadata": {},
   "outputs": [
    {
     "data": {
      "text/plain": [
       "'Hello World'"
      ]
     },
     "execution_count": 9,
     "metadata": {},
     "output_type": "execute_result"
    }
   ],
   "source": [
    "mystring\n"
   ]
  },
  {
   "cell_type": "code",
   "execution_count": 10,
   "id": "3b269f2d",
   "metadata": {},
   "outputs": [
    {
     "ename": "TypeError",
     "evalue": "'str' object is not callable",
     "output_type": "error",
     "traceback": [
      "\u001b[1;31m---------------------------------------------------------------------------\u001b[0m",
      "\u001b[1;31mTypeError\u001b[0m                                 Traceback (most recent call last)",
      "Cell \u001b[1;32mIn[10], line 1\u001b[0m\n\u001b[1;32m----> 1\u001b[0m mystring(\u001b[38;5;241m0\u001b[39m)\n",
      "\u001b[1;31mTypeError\u001b[0m: 'str' object is not callable"
     ]
    }
   ],
   "source": [
    "mystring(0)"
   ]
  },
  {
   "cell_type": "code",
   "execution_count": 12,
   "id": "c0ab9691",
   "metadata": {},
   "outputs": [],
   "source": [
    "#[] é usado para pegar um determinado index, o index também pode ser usado invertidamente usando o números negativos"
   ]
  },
  {
   "cell_type": "code",
   "execution_count": 67,
   "id": "67bdb8cb",
   "metadata": {},
   "outputs": [
    {
     "data": {
      "text/plain": [
       "'a'"
      ]
     },
     "execution_count": 67,
     "metadata": {},
     "output_type": "execute_result"
    }
   ],
   "source": [
    "mystring[0]\n"
   ]
  },
  {
   "cell_type": "code",
   "execution_count": 16,
   "id": "0e3c48ec",
   "metadata": {},
   "outputs": [
    {
     "data": {
      "text/plain": [
       "'r'"
      ]
     },
     "execution_count": 16,
     "metadata": {},
     "output_type": "execute_result"
    }
   ],
   "source": [
    "mystring[8]"
   ]
  },
  {
   "cell_type": "code",
   "execution_count": 18,
   "id": "aab21ed4",
   "metadata": {},
   "outputs": [],
   "source": [
    "mystring = \"abcdefghi\""
   ]
  },
  {
   "cell_type": "code",
   "execution_count": 19,
   "id": "59d43ff9",
   "metadata": {},
   "outputs": [
    {
     "data": {
      "text/plain": [
       "'abcdefghi'"
      ]
     },
     "execution_count": 19,
     "metadata": {},
     "output_type": "execute_result"
    }
   ],
   "source": [
    "mystring"
   ]
  },
  {
   "cell_type": "code",
   "execution_count": 22,
   "id": "5c7aeace",
   "metadata": {},
   "outputs": [
    {
     "data": {
      "text/plain": [
       "'cdefghi'"
      ]
     },
     "execution_count": 22,
     "metadata": {},
     "output_type": "execute_result"
    }
   ],
   "source": [
    "mystring[2:]"
   ]
  },
  {
   "cell_type": "code",
   "execution_count": 24,
   "id": "048fea4f",
   "metadata": {},
   "outputs": [
    {
     "data": {
      "text/plain": [
       "'ab'"
      ]
     },
     "execution_count": 24,
     "metadata": {},
     "output_type": "execute_result"
    }
   ],
   "source": [
    "mystring[:2]"
   ]
  },
  {
   "cell_type": "code",
   "execution_count": 25,
   "id": "d5e1ba0a",
   "metadata": {},
   "outputs": [],
   "source": [
    "#depende do lado dos \":\", você escolhe até onde você deseja selecionar os dados"
   ]
  },
  {
   "cell_type": "code",
   "execution_count": 27,
   "id": "c0b7b21e",
   "metadata": {},
   "outputs": [
    {
     "data": {
      "text/plain": [
       "'def'"
      ]
     },
     "execution_count": 27,
     "metadata": {},
     "output_type": "execute_result"
    }
   ],
   "source": [
    "mystring[3:6]"
   ]
  },
  {
   "cell_type": "code",
   "execution_count": 29,
   "id": "c2ff6a8f",
   "metadata": {},
   "outputs": [
    {
     "data": {
      "text/plain": [
       "'abcdefghi'"
      ]
     },
     "execution_count": 29,
     "metadata": {},
     "output_type": "execute_result"
    }
   ],
   "source": [
    "mystring[::]"
   ]
  },
  {
   "cell_type": "code",
   "execution_count": 31,
   "id": "52aedd41",
   "metadata": {},
   "outputs": [
    {
     "data": {
      "text/plain": [
       "'acegi'"
      ]
     },
     "execution_count": 31,
     "metadata": {},
     "output_type": "execute_result"
    }
   ],
   "source": [
    "mystring[::2]"
   ]
  },
  {
   "cell_type": "code",
   "execution_count": 32,
   "id": "79a8e89c",
   "metadata": {},
   "outputs": [],
   "source": [
    "# pula de 2 em 2, ou 3 em 3....."
   ]
  },
  {
   "cell_type": "code",
   "execution_count": 34,
   "id": "1cc30cda",
   "metadata": {},
   "outputs": [
    {
     "data": {
      "text/plain": [
       "'ceg'"
      ]
     },
     "execution_count": 34,
     "metadata": {},
     "output_type": "execute_result"
    }
   ],
   "source": [
    "mystring[2:7:2]"
   ]
  },
  {
   "cell_type": "code",
   "execution_count": 35,
   "id": "c1c6d62c",
   "metadata": {},
   "outputs": [],
   "source": [
    "#Onde começa(start): até onde vai,mas não inclui(stop): de quantos em quantos(step-size)\n"
   ]
  },
  {
   "cell_type": "code",
   "execution_count": 36,
   "id": "d147a3c3",
   "metadata": {},
   "outputs": [],
   "source": [
    "#[::-1] --> inverte a string"
   ]
  },
  {
   "cell_type": "code",
   "execution_count": 37,
   "id": "4a0bb594",
   "metadata": {},
   "outputs": [],
   "source": [
    "#imutability"
   ]
  },
  {
   "cell_type": "code",
   "execution_count": 41,
   "id": "a4442a25",
   "metadata": {},
   "outputs": [],
   "source": [
    "# não é possível usa[] em str"
   ]
  },
  {
   "cell_type": "code",
   "execution_count": 42,
   "id": "bd8152bd",
   "metadata": {},
   "outputs": [],
   "source": [
    "name = \"m\"Sa"
   ]
  },
  {
   "cell_type": "code",
   "execution_count": 43,
   "id": "28226b48",
   "metadata": {},
   "outputs": [],
   "source": [
    "last_letters = name[1:]"
   ]
  },
  {
   "cell_type": "code",
   "execution_count": 45,
   "id": "51a9ec6a",
   "metadata": {},
   "outputs": [
    {
     "data": {
      "text/plain": [
       "'am'"
      ]
     },
     "execution_count": 45,
     "metadata": {},
     "output_type": "execute_result"
    }
   ],
   "source": [
    "last_letters"
   ]
  },
  {
   "cell_type": "code",
   "execution_count": 47,
   "id": "592da7d0",
   "metadata": {},
   "outputs": [
    {
     "data": {
      "text/plain": [
       "'Pam'"
      ]
     },
     "execution_count": 47,
     "metadata": {},
     "output_type": "execute_result"
    }
   ],
   "source": [
    "'P' + last_letters"
   ]
  },
  {
   "cell_type": "code",
   "execution_count": 49,
   "id": "72dcdc85",
   "metadata": {},
   "outputs": [],
   "source": [
    "#isso é uma concatenação de strings"
   ]
  },
  {
   "cell_type": "code",
   "execution_count": 50,
   "id": "4e782c48",
   "metadata": {},
   "outputs": [],
   "source": [
    "x = \"hello World\""
   ]
  },
  {
   "cell_type": "code",
   "execution_count": 52,
   "id": "89aba6a6",
   "metadata": {},
   "outputs": [
    {
     "data": {
      "text/plain": [
       "'hello World it is beautiful outside'"
      ]
     },
     "execution_count": 52,
     "metadata": {},
     "output_type": "execute_result"
    }
   ],
   "source": [
    "x + \" it is beautiful outside\""
   ]
  },
  {
   "cell_type": "code",
   "execution_count": 53,
   "id": "1cb8ce29",
   "metadata": {},
   "outputs": [],
   "source": [
    "x = x + \" it is beautiful outside\""
   ]
  },
  {
   "cell_type": "code",
   "execution_count": 54,
   "id": "9b183338",
   "metadata": {},
   "outputs": [
    {
     "data": {
      "text/plain": [
       "'hello World it is beautiful outside'"
      ]
     },
     "execution_count": 54,
     "metadata": {},
     "output_type": "execute_result"
    }
   ],
   "source": [
    "x"
   ]
  },
  {
   "cell_type": "code",
   "execution_count": 55,
   "id": "05748dae",
   "metadata": {},
   "outputs": [],
   "source": [
    "# a str é redefinida assim"
   ]
  },
  {
   "cell_type": "code",
   "execution_count": 57,
   "id": "6bddb552",
   "metadata": {},
   "outputs": [],
   "source": [
    "letter = 'z'"
   ]
  },
  {
   "cell_type": "code",
   "execution_count": 58,
   "id": "5d72a457",
   "metadata": {},
   "outputs": [
    {
     "data": {
      "text/plain": [
       "'zzzzzzzzzz'"
      ]
     },
     "execution_count": 58,
     "metadata": {},
     "output_type": "execute_result"
    }
   ],
   "source": [
    "letter * 10"
   ]
  },
  {
   "cell_type": "code",
   "execution_count": 60,
   "id": "b0663c68",
   "metadata": {},
   "outputs": [
    {
     "data": {
      "text/plain": [
       "5"
      ]
     },
     "execution_count": 60,
     "metadata": {},
     "output_type": "execute_result"
    }
   ],
   "source": [
    "2 + 3\n"
   ]
  },
  {
   "cell_type": "code",
   "execution_count": 61,
   "id": "77c8c0c8",
   "metadata": {},
   "outputs": [
    {
     "data": {
      "text/plain": [
       "'23'"
      ]
     },
     "execution_count": 61,
     "metadata": {},
     "output_type": "execute_result"
    }
   ],
   "source": [
    "\"2\" + \"3\""
   ]
  },
  {
   "cell_type": "code",
   "execution_count": 62,
   "id": "4994595a",
   "metadata": {},
   "outputs": [],
   "source": [
    "x = \"Hello World\""
   ]
  },
  {
   "cell_type": "code",
   "execution_count": 63,
   "id": "4c3619ef",
   "metadata": {},
   "outputs": [],
   "source": [
    "#x. + tab"
   ]
  },
  {
   "cell_type": "code",
   "execution_count": 65,
   "id": "265c2107",
   "metadata": {},
   "outputs": [
    {
     "data": {
      "text/plain": [
       "'HELLO WORLD'"
      ]
     },
     "execution_count": 65,
     "metadata": {},
     "output_type": "execute_result"
    }
   ],
   "source": [
    "x.upper()\n"
   ]
  },
  {
   "cell_type": "code",
   "execution_count": 68,
   "id": "c69ee008",
   "metadata": {},
   "outputs": [
    {
     "data": {
      "text/plain": [
       "'Hello World'"
      ]
     },
     "execution_count": 68,
     "metadata": {},
     "output_type": "execute_result"
    }
   ],
   "source": [
    "x"
   ]
  },
  {
   "cell_type": "code",
   "execution_count": 69,
   "id": "309b77bb",
   "metadata": {},
   "outputs": [
    {
     "data": {
      "text/plain": [
       "'hello world'"
      ]
     },
     "execution_count": 69,
     "metadata": {},
     "output_type": "execute_result"
    }
   ],
   "source": [
    "x.lower()\n"
   ]
  },
  {
   "cell_type": "code",
   "execution_count": 70,
   "id": "0ce3b494",
   "metadata": {},
   "outputs": [
    {
     "data": {
      "text/plain": [
       "['Hello', 'World']"
      ]
     },
     "execution_count": 70,
     "metadata": {},
     "output_type": "execute_result"
    }
   ],
   "source": [
    "x.split()"
   ]
  },
  {
   "cell_type": "code",
   "execution_count": 71,
   "id": "016b7136",
   "metadata": {},
   "outputs": [],
   "source": [
    "# split separa a frase com base nos espaços"
   ]
  },
  {
   "cell_type": "code",
   "execution_count": 75,
   "id": "ccecdf3d",
   "metadata": {},
   "outputs": [],
   "source": [
    "x = \"hi this is a string\""
   ]
  },
  {
   "cell_type": "code",
   "execution_count": 77,
   "id": "6922dd1c",
   "metadata": {},
   "outputs": [
    {
     "data": {
      "text/plain": [
       "['h', ' th', 's ', 's a str', 'ng']"
      ]
     },
     "execution_count": 77,
     "metadata": {},
     "output_type": "execute_result"
    }
   ],
   "source": [
    "x.split('i')"
   ]
  },
  {
   "cell_type": "code",
   "execution_count": 78,
   "id": "6becd590",
   "metadata": {},
   "outputs": [],
   "source": [
    "# vai dividir nos \"i's\""
   ]
  },
  {
   "cell_type": "code",
   "execution_count": 83,
   "id": "0c491f35",
   "metadata": {},
   "outputs": [],
   "source": [
    "#.format() vai colocar no {} o que você escrever no () do .format\n"
   ]
  },
  {
   "cell_type": "code",
   "execution_count": 84,
   "id": "a2f22bc8",
   "metadata": {},
   "outputs": [
    {
     "name": "stdout",
     "output_type": "stream",
     "text": [
      "this is a string INSERTED\n"
     ]
    }
   ],
   "source": [
    "print('this is a string {}'.format('INSERTED'))"
   ]
  },
  {
   "cell_type": "code",
   "execution_count": 86,
   "id": "8eac65f6",
   "metadata": {},
   "outputs": [
    {
     "name": "stdout",
     "output_type": "stream",
     "text": [
      "The fox brown quick\n"
     ]
    }
   ],
   "source": [
    "print('The {} {} {}'.format('fox', 'brown', 'quick'))"
   ]
  },
  {
   "cell_type": "code",
   "execution_count": 87,
   "id": "643ba58f",
   "metadata": {},
   "outputs": [
    {
     "name": "stdout",
     "output_type": "stream",
     "text": [
      "The quick brown fox\n"
     ]
    }
   ],
   "source": [
    "print('The {2} {1} {0}'.format('fox', 'brown', 'quick'))"
   ]
  },
  {
   "cell_type": "code",
   "execution_count": 88,
   "id": "88a8ad17",
   "metadata": {},
   "outputs": [
    {
     "name": "stdout",
     "output_type": "stream",
     "text": [
      "The quick brown fox\n"
     ]
    }
   ],
   "source": [
    "print('The {q} {b} {f}'.format(f = 'fox', b ='brown', q ='quick'))"
   ]
  },
  {
   "cell_type": "code",
   "execution_count": 89,
   "id": "d1d2b95e",
   "metadata": {},
   "outputs": [],
   "source": [
    "result = 100/777"
   ]
  },
  {
   "cell_type": "code",
   "execution_count": 90,
   "id": "9806df6b",
   "metadata": {},
   "outputs": [
    {
     "data": {
      "text/plain": [
       "0.1287001287001287"
      ]
     },
     "execution_count": 90,
     "metadata": {},
     "output_type": "execute_result"
    }
   ],
   "source": [
    "result"
   ]
  },
  {
   "cell_type": "code",
   "execution_count": 96,
   "id": "afe65fc3",
   "metadata": {},
   "outputs": [
    {
     "name": "stdout",
     "output_type": "stream",
     "text": [
      "The result was 0.1287001287001287\n"
     ]
    }
   ],
   "source": [
    "print('The result was {}'.format(r = result))"
   ]
  },
  {
   "cell_type": "code",
   "execution_count": 98,
   "id": "c3a1f8d2",
   "metadata": {},
   "outputs": [
    {
     "name": "stdout",
     "output_type": "stream",
     "text": [
      "The result was 0.129\n"
     ]
    }
   ],
   "source": [
    "print('The result was {r:1.3f}'.format(r = result))"
   ]
  },
  {
   "cell_type": "code",
   "execution_count": 99,
   "id": "d3dfd201",
   "metadata": {},
   "outputs": [],
   "source": [
    "# print('The result was {valor: width.\"quantas casas\" + f}'.format(r = result))"
   ]
  },
  {
   "cell_type": "code",
   "execution_count": 100,
   "id": "388f825b",
   "metadata": {},
   "outputs": [],
   "source": [
    "name = 'Jose'"
   ]
  },
  {
   "cell_type": "code",
   "execution_count": 102,
   "id": "3fc8dda9",
   "metadata": {},
   "outputs": [
    {
     "name": "stdout",
     "output_type": "stream",
     "text": [
      "Hello, his name is Jose\n"
     ]
    }
   ],
   "source": [
    "print(f'Hello, his name is {name}')"
   ]
  },
  {
   "cell_type": "code",
   "execution_count": 103,
   "id": "6e3429bf",
   "metadata": {},
   "outputs": [],
   "source": [
    "name = 'Sam'\n",
    "age = 3"
   ]
  },
  {
   "cell_type": "code",
   "execution_count": 104,
   "id": "1f594d4f",
   "metadata": {},
   "outputs": [
    {
     "name": "stdout",
     "output_type": "stream",
     "text": [
      "Hello, his name is Sam, he is 3 years old\n"
     ]
    }
   ],
   "source": [
    "print(f'Hello, his name is {name}, he is {age} years old')"
   ]
  },
  {
   "cell_type": "code",
   "execution_count": 105,
   "id": "c1e30a0d",
   "metadata": {},
   "outputs": [],
   "source": [
    "#LIST/ é mutavel"
   ]
  },
  {
   "cell_type": "code",
   "execution_count": 106,
   "id": "a9e9f292",
   "metadata": {},
   "outputs": [],
   "source": [
    "my_list = [1,2,3]"
   ]
  },
  {
   "cell_type": "code",
   "execution_count": 107,
   "id": "65469800",
   "metadata": {},
   "outputs": [],
   "source": [
    "my_list = ['String',2,33.2]"
   ]
  },
  {
   "cell_type": "code",
   "execution_count": 108,
   "id": "431690d8",
   "metadata": {},
   "outputs": [
    {
     "data": {
      "text/plain": [
       "3"
      ]
     },
     "execution_count": 108,
     "metadata": {},
     "output_type": "execute_result"
    }
   ],
   "source": [
    "len(my_list)"
   ]
  },
  {
   "cell_type": "code",
   "execution_count": 109,
   "id": "251072ee",
   "metadata": {},
   "outputs": [],
   "source": [
    "mylist = ['one', 'two','three']"
   ]
  },
  {
   "cell_type": "code",
   "execution_count": 110,
   "id": "b15fee7d",
   "metadata": {},
   "outputs": [
    {
     "data": {
      "text/plain": [
       "'one'"
      ]
     },
     "execution_count": 110,
     "metadata": {},
     "output_type": "execute_result"
    }
   ],
   "source": [
    "mylist[0]"
   ]
  },
  {
   "cell_type": "code",
   "execution_count": 111,
   "id": "55ed84d5",
   "metadata": {},
   "outputs": [
    {
     "data": {
      "text/plain": [
       "['two', 'three']"
      ]
     },
     "execution_count": 111,
     "metadata": {},
     "output_type": "execute_result"
    }
   ],
   "source": [
    "mylist[1:]"
   ]
  },
  {
   "cell_type": "code",
   "execution_count": 112,
   "id": "a76739ed",
   "metadata": {},
   "outputs": [],
   "source": [
    "another_list = ['four', 'five']"
   ]
  },
  {
   "cell_type": "code",
   "execution_count": 113,
   "id": "2dd18ac5",
   "metadata": {},
   "outputs": [
    {
     "data": {
      "text/plain": [
       "['one', 'two', 'three', 'four', 'five']"
      ]
     },
     "execution_count": 113,
     "metadata": {},
     "output_type": "execute_result"
    }
   ],
   "source": [
    "mylist + another_list"
   ]
  },
  {
   "cell_type": "code",
   "execution_count": 114,
   "id": "a94625f5",
   "metadata": {},
   "outputs": [],
   "source": [
    "newlist = mylist + another_list"
   ]
  },
  {
   "cell_type": "code",
   "execution_count": 118,
   "id": "6c9626b5",
   "metadata": {},
   "outputs": [
    {
     "data": {
      "text/plain": [
       "['novo um', 'two', 'three', 'four', 'five']"
      ]
     },
     "execution_count": 118,
     "metadata": {},
     "output_type": "execute_result"
    }
   ],
   "source": [
    "newlist"
   ]
  },
  {
   "cell_type": "code",
   "execution_count": 116,
   "id": "579b4ee4",
   "metadata": {},
   "outputs": [],
   "source": [
    "# mudar os elementos de uma lista:"
   ]
  },
  {
   "cell_type": "code",
   "execution_count": 117,
   "id": "6291d1f0",
   "metadata": {},
   "outputs": [],
   "source": [
    "newlist[0] = 'novo um'"
   ]
  },
  {
   "cell_type": "code",
   "execution_count": 121,
   "id": "70261ef2",
   "metadata": {},
   "outputs": [],
   "source": [
    "newlist.append('six')\n",
    "newlist.append('seven')"
   ]
  },
  {
   "cell_type": "code",
   "execution_count": 122,
   "id": "c089d286",
   "metadata": {},
   "outputs": [
    {
     "data": {
      "text/plain": [
       "['novo um', 'two', 'three', 'four', 'five', 'six', 'six', 'seven']"
      ]
     },
     "execution_count": 122,
     "metadata": {},
     "output_type": "execute_result"
    }
   ],
   "source": [
    "newlist"
   ]
  },
  {
   "cell_type": "code",
   "execution_count": 123,
   "id": "ce7fbdbf",
   "metadata": {},
   "outputs": [],
   "source": [
    "#o append faz qualquer coisa que voc~^e inserir ir para o final da lista"
   ]
  },
  {
   "cell_type": "code",
   "execution_count": 125,
   "id": "6906080f",
   "metadata": {},
   "outputs": [
    {
     "data": {
      "text/plain": [
       "'seven'"
      ]
     },
     "execution_count": 125,
     "metadata": {},
     "output_type": "execute_result"
    }
   ],
   "source": [
    "newlist.pop()"
   ]
  },
  {
   "cell_type": "code",
   "execution_count": 126,
   "id": "8e34a51d",
   "metadata": {},
   "outputs": [
    {
     "data": {
      "text/plain": [
       "['novo um', 'two', 'three', 'four', 'five', 'six', 'six']"
      ]
     },
     "execution_count": 126,
     "metadata": {},
     "output_type": "execute_result"
    }
   ],
   "source": [
    "newlist"
   ]
  },
  {
   "cell_type": "code",
   "execution_count": 127,
   "id": "6790ae08",
   "metadata": {},
   "outputs": [],
   "source": [
    "popped_item = newlist.pop()"
   ]
  },
  {
   "cell_type": "code",
   "execution_count": 128,
   "id": "cd04ee9d",
   "metadata": {},
   "outputs": [
    {
     "data": {
      "text/plain": [
       "'six'"
      ]
     },
     "execution_count": 128,
     "metadata": {},
     "output_type": "execute_result"
    }
   ],
   "source": [
    "popped_item"
   ]
  },
  {
   "cell_type": "code",
   "execution_count": 129,
   "id": "c19af56a",
   "metadata": {},
   "outputs": [
    {
     "data": {
      "text/plain": [
       "['novo um', 'two', 'three', 'four', 'five', 'six']"
      ]
     },
     "execution_count": 129,
     "metadata": {},
     "output_type": "execute_result"
    }
   ],
   "source": [
    "newlist"
   ]
  },
  {
   "cell_type": "code",
   "execution_count": 130,
   "id": "56d14b81",
   "metadata": {},
   "outputs": [
    {
     "data": {
      "text/plain": [
       "'two'"
      ]
     },
     "execution_count": 130,
     "metadata": {},
     "output_type": "execute_result"
    }
   ],
   "source": [
    "newlist.pop(1)"
   ]
  },
  {
   "cell_type": "code",
   "execution_count": 131,
   "id": "66f450f2",
   "metadata": {},
   "outputs": [
    {
     "data": {
      "text/plain": [
       "['novo um', 'three', 'four', 'five', 'six']"
      ]
     },
     "execution_count": 131,
     "metadata": {},
     "output_type": "execute_result"
    }
   ],
   "source": [
    "newlist"
   ]
  },
  {
   "cell_type": "code",
   "execution_count": 132,
   "id": "a6c287a3",
   "metadata": {},
   "outputs": [],
   "source": [
    "newlist = ['a', 'c', 'b', 'e', 'd']\n",
    "numlist = [1,6,4,5,2]"
   ]
  },
  {
   "cell_type": "code",
   "execution_count": 133,
   "id": "d85aefcb",
   "metadata": {},
   "outputs": [],
   "source": [
    "newlist.sort()"
   ]
  },
  {
   "cell_type": "code",
   "execution_count": 134,
   "id": "38e21397",
   "metadata": {},
   "outputs": [
    {
     "data": {
      "text/plain": [
       "['a', 'b', 'c', 'd', 'e']"
      ]
     },
     "execution_count": 134,
     "metadata": {},
     "output_type": "execute_result"
    }
   ],
   "source": [
    "newlist"
   ]
  },
  {
   "cell_type": "code",
   "execution_count": 135,
   "id": "016ae5e4",
   "metadata": {},
   "outputs": [],
   "source": [
    "#sort ordena os elementos/ None= função que não retorna nada"
   ]
  },
  {
   "cell_type": "code",
   "execution_count": 136,
   "id": "65017d67",
   "metadata": {},
   "outputs": [],
   "source": [
    "numlist.sort()\n",
    "newnumlist = numlist"
   ]
  },
  {
   "cell_type": "code",
   "execution_count": 137,
   "id": "7f012e33",
   "metadata": {},
   "outputs": [
    {
     "data": {
      "text/plain": [
       "[1, 2, 4, 5, 6]"
      ]
     },
     "execution_count": 137,
     "metadata": {},
     "output_type": "execute_result"
    }
   ],
   "source": [
    "numlist"
   ]
  },
  {
   "cell_type": "code",
   "execution_count": 138,
   "id": "094320f3",
   "metadata": {},
   "outputs": [],
   "source": [
    "numlist.reverse()"
   ]
  },
  {
   "cell_type": "code",
   "execution_count": 139,
   "id": "ad38df36",
   "metadata": {},
   "outputs": [
    {
     "data": {
      "text/plain": [
       "[6, 5, 4, 2, 1]"
      ]
     },
     "execution_count": 139,
     "metadata": {},
     "output_type": "execute_result"
    }
   ],
   "source": [
    "numlist"
   ]
  },
  {
   "cell_type": "code",
   "execution_count": 140,
   "id": "f589a974",
   "metadata": {},
   "outputs": [],
   "source": [
    "#Dictionary / associa valores"
   ]
  },
  {
   "cell_type": "code",
   "execution_count": 141,
   "id": "8b699c68",
   "metadata": {},
   "outputs": [],
   "source": [
    "mydic = {'key1' : 'value1','key2':'value2' }"
   ]
  },
  {
   "cell_type": "code",
   "execution_count": 142,
   "id": "55481d4d",
   "metadata": {},
   "outputs": [
    {
     "data": {
      "text/plain": [
       "{'key1': 'value1', 'key2': 'value2'}"
      ]
     },
     "execution_count": 142,
     "metadata": {},
     "output_type": "execute_result"
    }
   ],
   "source": [
    "mydic"
   ]
  },
  {
   "cell_type": "code",
   "execution_count": 143,
   "id": "a3fd8102",
   "metadata": {},
   "outputs": [
    {
     "data": {
      "text/plain": [
       "'value1'"
      ]
     },
     "execution_count": 143,
     "metadata": {},
     "output_type": "execute_result"
    }
   ],
   "source": [
    "mydic['key1']"
   ]
  },
  {
   "cell_type": "code",
   "execution_count": 151,
   "id": "f9ebe5eb",
   "metadata": {},
   "outputs": [],
   "source": [
    "d = {'key1' : 123,'key2':[0, 1, 'r', 3],'key3': {'insidekey':100}}"
   ]
  },
  {
   "cell_type": "code",
   "execution_count": 145,
   "id": "ca629d4e",
   "metadata": {},
   "outputs": [
    {
     "data": {
      "text/plain": [
       "[0, 1, 2, 3]"
      ]
     },
     "execution_count": 145,
     "metadata": {},
     "output_type": "execute_result"
    }
   ],
   "source": [
    "d['key2']"
   ]
  },
  {
   "cell_type": "code",
   "execution_count": 148,
   "id": "9ca15597",
   "metadata": {},
   "outputs": [
    {
     "data": {
      "text/plain": [
       "100"
      ]
     },
     "execution_count": 148,
     "metadata": {},
     "output_type": "execute_result"
    }
   ],
   "source": [
    "d['key3']['insidekey']"
   ]
  },
  {
   "cell_type": "code",
   "execution_count": 152,
   "id": "d4d8c7d2",
   "metadata": {},
   "outputs": [
    {
     "data": {
      "text/plain": [
       "'R'"
      ]
     },
     "execution_count": 152,
     "metadata": {},
     "output_type": "execute_result"
    }
   ],
   "source": [
    "d['key2'][2].upper()"
   ]
  },
  {
   "cell_type": "code",
   "execution_count": 150,
   "id": "f794dfb1",
   "metadata": {},
   "outputs": [],
   "source": [
    "# selecionar o idex da lista que você quer dentro do dic"
   ]
  },
  {
   "cell_type": "code",
   "execution_count": 153,
   "id": "19eb96be",
   "metadata": {},
   "outputs": [],
   "source": [
    "d = {'k1':100, 'k2':200}"
   ]
  },
  {
   "cell_type": "code",
   "execution_count": 154,
   "id": "b1fe9cd2",
   "metadata": {},
   "outputs": [],
   "source": [
    "d['k3'] = 300"
   ]
  },
  {
   "cell_type": "code",
   "execution_count": 155,
   "id": "2064c8f6",
   "metadata": {},
   "outputs": [
    {
     "data": {
      "text/plain": [
       "{'k1': 100, 'k2': 200, 'k3': 300}"
      ]
     },
     "execution_count": 155,
     "metadata": {},
     "output_type": "execute_result"
    }
   ],
   "source": [
    "d"
   ]
  },
  {
   "cell_type": "code",
   "execution_count": 156,
   "id": "4c550304",
   "metadata": {},
   "outputs": [],
   "source": [
    "d['k1'] = 'NEW VALUE'"
   ]
  },
  {
   "cell_type": "code",
   "execution_count": 157,
   "id": "531176f7",
   "metadata": {},
   "outputs": [
    {
     "data": {
      "text/plain": [
       "{'k1': 'NEW VALUE', 'k2': 200, 'k3': 300}"
      ]
     },
     "execution_count": 157,
     "metadata": {},
     "output_type": "execute_result"
    }
   ],
   "source": [
    "d"
   ]
  },
  {
   "cell_type": "code",
   "execution_count": 158,
   "id": "c8c0c9d4",
   "metadata": {},
   "outputs": [
    {
     "data": {
      "text/plain": [
       "dict_keys(['k1', 'k2', 'k3'])"
      ]
     },
     "execution_count": 158,
     "metadata": {},
     "output_type": "execute_result"
    }
   ],
   "source": [
    "d.keys()\n"
   ]
  },
  {
   "cell_type": "code",
   "execution_count": 159,
   "id": "d57dc137",
   "metadata": {},
   "outputs": [
    {
     "data": {
      "text/plain": [
       "dict_values(['NEW VALUE', 200, 300])"
      ]
     },
     "execution_count": 159,
     "metadata": {},
     "output_type": "execute_result"
    }
   ],
   "source": [
    "d.values()"
   ]
  },
  {
   "cell_type": "code",
   "execution_count": 160,
   "id": "40b456aa",
   "metadata": {},
   "outputs": [
    {
     "data": {
      "text/plain": [
       "dict_items([('k1', 'NEW VALUE'), ('k2', 200), ('k3', 300)])"
      ]
     },
     "execution_count": 160,
     "metadata": {},
     "output_type": "execute_result"
    }
   ],
   "source": [
    "d.items()"
   ]
  },
  {
   "cell_type": "code",
   "execution_count": 161,
   "id": "2b308d55",
   "metadata": {},
   "outputs": [],
   "source": [
    "#Tuples, são listas imutaveis"
   ]
  },
  {
   "cell_type": "code",
   "execution_count": 162,
   "id": "8f612638",
   "metadata": {},
   "outputs": [],
   "source": [
    "t = (1,2,3)"
   ]
  },
  {
   "cell_type": "code",
   "execution_count": 163,
   "id": "991f802b",
   "metadata": {},
   "outputs": [],
   "source": [
    "mylist = [1,2,3]"
   ]
  },
  {
   "cell_type": "code",
   "execution_count": 164,
   "id": "9d5be040",
   "metadata": {},
   "outputs": [
    {
     "data": {
      "text/plain": [
       "tuple"
      ]
     },
     "execution_count": 164,
     "metadata": {},
     "output_type": "execute_result"
    }
   ],
   "source": [
    "type(t)"
   ]
  },
  {
   "cell_type": "code",
   "execution_count": 165,
   "id": "4f6eadb8",
   "metadata": {},
   "outputs": [
    {
     "data": {
      "text/plain": [
       "list"
      ]
     },
     "execution_count": 165,
     "metadata": {},
     "output_type": "execute_result"
    }
   ],
   "source": [
    "type(mylist)"
   ]
  },
  {
   "cell_type": "code",
   "execution_count": 167,
   "id": "2a48398f",
   "metadata": {},
   "outputs": [],
   "source": [
    "t = ('one', 2)"
   ]
  },
  {
   "cell_type": "code",
   "execution_count": 168,
   "id": "323b3b02",
   "metadata": {},
   "outputs": [
    {
     "data": {
      "text/plain": [
       "'one'"
      ]
     },
     "execution_count": 168,
     "metadata": {},
     "output_type": "execute_result"
    }
   ],
   "source": [
    "t[0]"
   ]
  },
  {
   "cell_type": "code",
   "execution_count": 169,
   "id": "28675bc3",
   "metadata": {},
   "outputs": [
    {
     "data": {
      "text/plain": [
       "2"
      ]
     },
     "execution_count": 169,
     "metadata": {},
     "output_type": "execute_result"
    }
   ],
   "source": [
    "t[-1]"
   ]
  },
  {
   "cell_type": "code",
   "execution_count": 171,
   "id": "d5833104",
   "metadata": {},
   "outputs": [],
   "source": [
    "t = ('a','a','b')"
   ]
  },
  {
   "cell_type": "code",
   "execution_count": 174,
   "id": "deb8241b",
   "metadata": {},
   "outputs": [
    {
     "data": {
      "text/plain": [
       "2"
      ]
     },
     "execution_count": 174,
     "metadata": {},
     "output_type": "execute_result"
    }
   ],
   "source": [
    "t.count('a')"
   ]
  },
  {
   "cell_type": "code",
   "execution_count": 175,
   "id": "6819ef62",
   "metadata": {},
   "outputs": [
    {
     "data": {
      "text/plain": [
       "0"
      ]
     },
     "execution_count": 175,
     "metadata": {},
     "output_type": "execute_result"
    }
   ],
   "source": [
    "t.index('a')"
   ]
  },
  {
   "cell_type": "code",
   "execution_count": 176,
   "id": "38347643",
   "metadata": {},
   "outputs": [],
   "source": [
    "mylist[0] = 'NEW'"
   ]
  },
  {
   "cell_type": "code",
   "execution_count": 177,
   "id": "47587619",
   "metadata": {},
   "outputs": [
    {
     "data": {
      "text/plain": [
       "['NEW', 2, 3]"
      ]
     },
     "execution_count": 177,
     "metadata": {},
     "output_type": "execute_result"
    }
   ],
   "source": [
    "mylist"
   ]
  },
  {
   "cell_type": "code",
   "execution_count": 178,
   "id": "7a8a82ed",
   "metadata": {},
   "outputs": [],
   "source": [
    "# não da para fazer a mesma coisa com uma Tuople, pois elas são imutaveis"
   ]
  },
  {
   "cell_type": "code",
   "execution_count": 179,
   "id": "f88f20fd",
   "metadata": {},
   "outputs": [],
   "source": [
    "#SET(So armazena valores únicos, não podendo ter elementos repetidos)"
   ]
  },
  {
   "cell_type": "code",
   "execution_count": 180,
   "id": "1e286ce4",
   "metadata": {},
   "outputs": [],
   "source": [
    "myset = set()"
   ]
  },
  {
   "cell_type": "code",
   "execution_count": 181,
   "id": "421b8963",
   "metadata": {},
   "outputs": [
    {
     "data": {
      "text/plain": [
       "set()"
      ]
     },
     "execution_count": 181,
     "metadata": {},
     "output_type": "execute_result"
    }
   ],
   "source": [
    "myset"
   ]
  },
  {
   "cell_type": "code",
   "execution_count": 182,
   "id": "fb57ef20",
   "metadata": {},
   "outputs": [],
   "source": [
    "myset.add(1)"
   ]
  },
  {
   "cell_type": "code",
   "execution_count": 183,
   "id": "276a354a",
   "metadata": {},
   "outputs": [
    {
     "data": {
      "text/plain": [
       "{1}"
      ]
     },
     "execution_count": 183,
     "metadata": {},
     "output_type": "execute_result"
    }
   ],
   "source": [
    "myset"
   ]
  },
  {
   "cell_type": "code",
   "execution_count": 184,
   "id": "36503b41",
   "metadata": {},
   "outputs": [],
   "source": [
    "myset.add(2)"
   ]
  },
  {
   "cell_type": "code",
   "execution_count": 185,
   "id": "bb6562fb",
   "metadata": {},
   "outputs": [
    {
     "data": {
      "text/plain": [
       "{1, 2}"
      ]
     },
     "execution_count": 185,
     "metadata": {},
     "output_type": "execute_result"
    }
   ],
   "source": [
    "myset"
   ]
  },
  {
   "cell_type": "code",
   "execution_count": 186,
   "id": "839aa19a",
   "metadata": {},
   "outputs": [],
   "source": [
    "mylist = [1,1,1,1,1,2,2,2,2,3,3,3,3]"
   ]
  },
  {
   "cell_type": "code",
   "execution_count": 187,
   "id": "353a3bbb",
   "metadata": {},
   "outputs": [
    {
     "data": {
      "text/plain": [
       "{1, 2, 3}"
      ]
     },
     "execution_count": 187,
     "metadata": {},
     "output_type": "execute_result"
    }
   ],
   "source": [
    "set(mylist)"
   ]
  },
  {
   "cell_type": "code",
   "execution_count": 189,
   "id": "b1bf4953",
   "metadata": {},
   "outputs": [],
   "source": [
    "#BOOLEANS(true or false statements)\n"
   ]
  },
  {
   "cell_type": "code",
   "execution_count": 190,
   "id": "703741d2",
   "metadata": {},
   "outputs": [
    {
     "data": {
      "text/plain": [
       "True"
      ]
     },
     "execution_count": 190,
     "metadata": {},
     "output_type": "execute_result"
    }
   ],
   "source": [
    "True"
   ]
  },
  {
   "cell_type": "code",
   "execution_count": 191,
   "id": "3f238d41",
   "metadata": {},
   "outputs": [
    {
     "data": {
      "text/plain": [
       "bool"
      ]
     },
     "execution_count": 191,
     "metadata": {},
     "output_type": "execute_result"
    }
   ],
   "source": [
    "type(True)"
   ]
  },
  {
   "cell_type": "code",
   "execution_count": 192,
   "id": "b87f8e0a",
   "metadata": {},
   "outputs": [
    {
     "data": {
      "text/plain": [
       "False"
      ]
     },
     "execution_count": 192,
     "metadata": {},
     "output_type": "execute_result"
    }
   ],
   "source": [
    "1 > 2"
   ]
  },
  {
   "cell_type": "code",
   "execution_count": 194,
   "id": "4f4eb669",
   "metadata": {},
   "outputs": [
    {
     "data": {
      "text/plain": [
       "True"
      ]
     },
     "execution_count": 194,
     "metadata": {},
     "output_type": "execute_result"
    }
   ],
   "source": [
    "1 == 1"
   ]
  },
  {
   "cell_type": "code",
   "execution_count": 195,
   "id": "a9386da3",
   "metadata": {},
   "outputs": [],
   "source": [
    "b = None"
   ]
  },
  {
   "cell_type": "code",
   "execution_count": null,
   "id": "9982eb57",
   "metadata": {},
   "outputs": [],
   "source": []
  }
 ],
 "metadata": {
  "kernelspec": {
   "display_name": "Python 3 (ipykernel)",
   "language": "python",
   "name": "python3"
  },
  "language_info": {
   "codemirror_mode": {
    "name": "ipython",
    "version": 3
   },
   "file_extension": ".py",
   "mimetype": "text/x-python",
   "name": "python",
   "nbconvert_exporter": "python",
   "pygments_lexer": "ipython3",
   "version": "3.11.3"
  }
 },
 "nbformat": 4,
 "nbformat_minor": 5
}
