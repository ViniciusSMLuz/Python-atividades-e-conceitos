{
 "cells": [
  {
   "cell_type": "code",
   "execution_count": 1,
   "id": "8592e4a0",
   "metadata": {},
   "outputs": [],
   "source": [
    "# Criar códigos que se repetem e são organizados"
   ]
  },
  {
   "cell_type": "code",
   "execution_count": 47,
   "id": "5beff449",
   "metadata": {},
   "outputs": [],
   "source": [
    "# self é uma referencia á instância da classe\n",
    "# EX: self.atributo_nome = nome do parâmetro "
   ]
  },
  {
   "cell_type": "code",
   "execution_count": 3,
   "id": "fad78f73",
   "metadata": {},
   "outputs": [],
   "source": [
    "#CLASSES\n",
    "class Sample():\n",
    "    pass"
   ]
  },
  {
   "cell_type": "code",
   "execution_count": 4,
   "id": "2db70a22",
   "metadata": {},
   "outputs": [],
   "source": [
    "my_sample = Sample() #instanciando a classe"
   ]
  },
  {
   "cell_type": "code",
   "execution_count": 5,
   "id": "b9f1d66c",
   "metadata": {},
   "outputs": [
    {
     "data": {
      "text/plain": [
       "__main__.Sample"
      ]
     },
     "execution_count": 5,
     "metadata": {},
     "output_type": "execute_result"
    }
   ],
   "source": [
    "type(my_sample)"
   ]
  },
  {
   "cell_type": "code",
   "execution_count": 6,
   "id": "2064f510",
   "metadata": {},
   "outputs": [],
   "source": [
    "# DANDO ATRIBUTOS AS CLASSES"
   ]
  },
  {
   "cell_type": "code",
   "execution_count": 42,
   "id": "cc492af7",
   "metadata": {},
   "outputs": [],
   "source": [
    "class Dog(): #init é usado para criar instancias da classe, é um método que serve de construtor\n",
    "    def __init__(self,mybreed,name,spots): #shift + tab para ajuda\n",
    "        \n",
    "        #Atributos\n",
    "        #Recebe o argumeto(mybreed)\n",
    "        #O recorda usando self.XXXXXX\n",
    "        self.breed = mybreed #mybreed é um nome de parâmetro para um argumento; breed = meu atributo\n",
    "        self.name = name\n",
    "        self.spots = spots # um boolean"
   ]
  },
  {
   "cell_type": "code",
   "execution_count": 43,
   "id": "26b9757d",
   "metadata": {},
   "outputs": [],
   "source": [
    " my_dog = Dog(mybreed ='labrador', name = 'Sammy', spots = False) #declarar as instancias numa variável para ser chamada"
   ]
  },
  {
   "cell_type": "code",
   "execution_count": 44,
   "id": "39b61104",
   "metadata": {},
   "outputs": [
    {
     "data": {
      "text/plain": [
       "__main__.Dog"
      ]
     },
     "execution_count": 44,
     "metadata": {},
     "output_type": "execute_result"
    }
   ],
   "source": [
    "type(my_dog)"
   ]
  },
  {
   "cell_type": "code",
   "execution_count": 45,
   "id": "f0e9c6cc",
   "metadata": {},
   "outputs": [
    {
     "data": {
      "text/plain": [
       "'labrador'"
      ]
     },
     "execution_count": 45,
     "metadata": {},
     "output_type": "execute_result"
    }
   ],
   "source": [
    "my_dog.breed"
   ]
  },
  {
   "cell_type": "code",
   "execution_count": 46,
   "id": "fff3da01",
   "metadata": {},
   "outputs": [
    {
     "data": {
      "text/plain": [
       "'Sammy'"
      ]
     },
     "execution_count": 46,
     "metadata": {},
     "output_type": "execute_result"
    }
   ],
   "source": [
    "my_dog.name"
   ]
  },
  {
   "cell_type": "code",
   "execution_count": 48,
   "id": "eec88783",
   "metadata": {},
   "outputs": [],
   "source": [
    "################################################################################################################################"
   ]
  },
  {
   "cell_type": "code",
   "execution_count": 49,
   "id": "f2f32d19",
   "metadata": {},
   "outputs": [],
   "source": [
    "class Dog(): \n",
    "    #Class object attribute(vai ficar em cima di __init__), são os mesmos para QUALQUER instancia da classe\n",
    "    species = 'mammal'\n",
    "    def __init__(self,mybreed,name,spots):\n",
    "        self.breed = mybreed \n",
    "        self.name = name\n",
    "        self.spots = spots "
   ]
  },
  {
   "cell_type": "code",
   "execution_count": 51,
   "id": "bc55f483",
   "metadata": {},
   "outputs": [],
   "source": [
    "my_dog = Dog(mybreed ='labrador', name = 'Sam', spots = False)"
   ]
  },
  {
   "cell_type": "code",
   "execution_count": 52,
   "id": "b69f7925",
   "metadata": {},
   "outputs": [
    {
     "ename": "TypeError",
     "evalue": "Dog.__init__() missing 3 required positional arguments: 'mybreed', 'name', and 'spots'",
     "output_type": "error",
     "traceback": [
      "\u001b[1;31m---------------------------------------------------------------------------\u001b[0m",
      "\u001b[1;31mTypeError\u001b[0m                                 Traceback (most recent call last)",
      "Cell \u001b[1;32mIn[52], line 1\u001b[0m\n\u001b[1;32m----> 1\u001b[0m my_dog \u001b[38;5;241m=\u001b[39m Dog()\n",
      "\u001b[1;31mTypeError\u001b[0m: Dog.__init__() missing 3 required positional arguments: 'mybreed', 'name', and 'spots'"
     ]
    }
   ],
   "source": [
    "my_dog = Dog()"
   ]
  },
  {
   "cell_type": "code",
   "execution_count": 53,
   "id": "89e9e33d",
   "metadata": {},
   "outputs": [
    {
     "data": {
      "text/plain": [
       "'mammal'"
      ]
     },
     "execution_count": 53,
     "metadata": {},
     "output_type": "execute_result"
    }
   ],
   "source": [
    "my_dog.species"
   ]
  },
  {
   "cell_type": "code",
   "execution_count": 54,
   "id": "08b4fb9b",
   "metadata": {},
   "outputs": [],
   "source": [
    "# METHODS (Funções definidas no corpo das classes)"
   ]
  },
  {
   "cell_type": "code",
   "execution_count": 62,
   "id": "63fc2f3d",
   "metadata": {},
   "outputs": [],
   "source": [
    "class Dog(): \n",
    "    species = 'mammal'\n",
    "    def __init__(self,mybreed,name,spots):\n",
    "        self.breed = mybreed \n",
    "        self.name = name\n",
    "        self.spots = spots \n",
    "        #OPERATIONS/ACTIONS --> METHODS(função dentro de uma classe que executa algo)\n",
    "    def bark(self, number): #sempre usar self para referenciar os argumentos\n",
    "        print('WOOF! My name is {} the number is {}'.format(self.name, number)) #quando o self.XXXX não e usado, significa que o elemento será inserido pelo usuário"
   ]
  },
  {
   "cell_type": "code",
   "execution_count": 63,
   "id": "a4497854",
   "metadata": {},
   "outputs": [],
   "source": [
    "my_dog = Dog('labrador','Sam', False)"
   ]
  },
  {
   "cell_type": "code",
   "execution_count": 65,
   "id": "c7b1a982",
   "metadata": {},
   "outputs": [
    {
     "data": {
      "text/plain": [
       "'mammal'"
      ]
     },
     "execution_count": 65,
     "metadata": {},
     "output_type": "execute_result"
    }
   ],
   "source": [
    "my_dog.species"
   ]
  },
  {
   "cell_type": "code",
   "execution_count": 66,
   "id": "952e0703",
   "metadata": {},
   "outputs": [
    {
     "data": {
      "text/plain": [
       "'Sam'"
      ]
     },
     "execution_count": 66,
     "metadata": {},
     "output_type": "execute_result"
    }
   ],
   "source": [
    "my_dog.name"
   ]
  },
  {
   "cell_type": "code",
   "execution_count": 67,
   "id": "ad5f5ef1",
   "metadata": {},
   "outputs": [
    {
     "name": "stdout",
     "output_type": "stream",
     "text": [
      "WOOF! My name is Sam the number is 10\n"
     ]
    }
   ],
   "source": [
    "my_dog.bark(10)"
   ]
  },
  {
   "cell_type": "code",
   "execution_count": 92,
   "id": "81cda7e8",
   "metadata": {},
   "outputs": [],
   "source": [
    "class circle():\n",
    "    #sempre vai ser verdade, independente da situação\n",
    "    pi = 3.14\n",
    "    def __init__(self, radius = 1): #valor base do circle é 1, mas ele pode ser alterado lá em baixo\n",
    "        self.radius = radius\n",
    "        #exite como criar um argumento sem declara-lo no __init__:\n",
    "        self.area = radius *radius * circle.pi #casou seja um class object attribute usa-se circle.X\n",
    "    def get_circunference(self):\n",
    "        return self.radius * self.pi * 2"
   ]
  },
  {
   "cell_type": "code",
   "execution_count": 101,
   "id": "e4117a6c",
   "metadata": {},
   "outputs": [],
   "source": [
    "my_circle = circle(40) #ou seja, quando essa variável é chamada, ela consegue executar todos os elementos da classes, dependendo do que você especificar"
   ]
  },
  {
   "cell_type": "code",
   "execution_count": 102,
   "id": "2d65edb9",
   "metadata": {},
   "outputs": [
    {
     "data": {
      "text/plain": [
       "3.14"
      ]
     },
     "execution_count": 102,
     "metadata": {},
     "output_type": "execute_result"
    }
   ],
   "source": [
    "my_circle.pi"
   ]
  },
  {
   "cell_type": "code",
   "execution_count": 103,
   "id": "d7303163",
   "metadata": {},
   "outputs": [
    {
     "data": {
      "text/plain": [
       "40"
      ]
     },
     "execution_count": 103,
     "metadata": {},
     "output_type": "execute_result"
    }
   ],
   "source": [
    "my_circle.radius"
   ]
  },
  {
   "cell_type": "code",
   "execution_count": 104,
   "id": "1170cd0f",
   "metadata": {},
   "outputs": [
    {
     "data": {
      "text/plain": [
       "251.20000000000002"
      ]
     },
     "execution_count": 104,
     "metadata": {},
     "output_type": "execute_result"
    }
   ],
   "source": [
    "my_circle.get_circunference()"
   ]
  },
  {
   "cell_type": "code",
   "execution_count": 105,
   "id": "5df48870",
   "metadata": {},
   "outputs": [
    {
     "data": {
      "text/plain": [
       "5024.0"
      ]
     },
     "execution_count": 105,
     "metadata": {},
     "output_type": "execute_result"
    }
   ],
   "source": [
    "my_circle.area"
   ]
  },
  {
   "cell_type": "code",
   "execution_count": 106,
   "id": "7629ab18",
   "metadata": {},
   "outputs": [],
   "source": [
    "# Inheritance and Polymorphism"
   ]
  },
  {
   "cell_type": "code",
   "execution_count": 107,
   "id": "0c8483c3",
   "metadata": {},
   "outputs": [],
   "source": [
    "# Inheritance"
   ]
  },
  {
   "cell_type": "code",
   "execution_count": 139,
   "id": "2ee6a965",
   "metadata": {},
   "outputs": [],
   "source": [
    "class animal():\n",
    "    def __init__(self):\n",
    "        print('animal CREATED')\n",
    "    def who_am_i(self):\n",
    "        print('I am animal')\n",
    "        \n",
    "    def eat(self):\n",
    "        print('I am eating')"
   ]
  },
  {
   "cell_type": "code",
   "execution_count": 140,
   "id": "9949b0e0",
   "metadata": {},
   "outputs": [],
   "source": [
    "#reutilizando classes usando inheritance\n",
    "class Dog(animal): # a classe dog vai herdar os métodos do animal, pois dentro do init do dog eu chamei 'animal.__init__(self)'\n",
    "    def __init__(self):\n",
    "        animal.__init__(self)\n",
    "        print('DOG CREATED')\n",
    "        #sobrecarregando um método antigo\n",
    "    def who_am_i(self):\n",
    "        print('I am a dog')"
   ]
  },
  {
   "cell_type": "code",
   "execution_count": 130,
   "id": "5eb968b3",
   "metadata": {},
   "outputs": [
    {
     "name": "stdout",
     "output_type": "stream",
     "text": [
      "animal CREATED\n"
     ]
    }
   ],
   "source": [
    "myanimal = animal()"
   ]
  },
  {
   "cell_type": "code",
   "execution_count": 131,
   "id": "ca353f52",
   "metadata": {},
   "outputs": [
    {
     "name": "stdout",
     "output_type": "stream",
     "text": [
      "I am eating\n"
     ]
    }
   ],
   "source": [
    "myanimal.eat()"
   ]
  },
  {
   "cell_type": "code",
   "execution_count": 142,
   "id": "fb63a338",
   "metadata": {},
   "outputs": [
    {
     "name": "stdout",
     "output_type": "stream",
     "text": [
      "animal CREATED\n",
      "DOG CREATED\n"
     ]
    }
   ],
   "source": [
    "mydog = Dog()"
   ]
  },
  {
   "cell_type": "code",
   "execution_count": 134,
   "id": "fb3c8cc2",
   "metadata": {},
   "outputs": [
    {
     "name": "stdout",
     "output_type": "stream",
     "text": [
      "I am animal\n"
     ]
    }
   ],
   "source": [
    "mydog.who_am_i()"
   ]
  },
  {
   "cell_type": "code",
   "execution_count": 144,
   "id": "399b9123",
   "metadata": {},
   "outputs": [
    {
     "name": "stdout",
     "output_type": "stream",
     "text": [
      "I am a dog\n"
     ]
    }
   ],
   "source": [
    "mydog.who_am_i() #overrided"
   ]
  },
  {
   "cell_type": "code",
   "execution_count": 145,
   "id": "3017260b",
   "metadata": {},
   "outputs": [],
   "source": [
    "#POLIMORPHISM"
   ]
  },
  {
   "cell_type": "code",
   "execution_count": 3,
   "id": "d22cde9b",
   "metadata": {},
   "outputs": [],
   "source": [
    "class Dog():\n",
    "    def __init__(self, name):\n",
    "         self.name = name\n",
    "    def speak(self):\n",
    "        return self.name + ' says woof!'"
   ]
  },
  {
   "cell_type": "code",
   "execution_count": 4,
   "id": "64a765e9",
   "metadata": {},
   "outputs": [],
   "source": [
    "class Cat():\n",
    "    def __init__(self, name):\n",
    "         self.name = name\n",
    "    def speak(self):\n",
    "        return self.name + ' says meow!'"
   ]
  },
  {
   "cell_type": "code",
   "execution_count": 5,
   "id": "f2bdc4d3",
   "metadata": {},
   "outputs": [],
   "source": [
    "niko = Dog('niko')"
   ]
  },
  {
   "cell_type": "code",
   "execution_count": 6,
   "id": "5724bfe6",
   "metadata": {},
   "outputs": [],
   "source": [
    "felix = Cat('felix')"
   ]
  },
  {
   "cell_type": "code",
   "execution_count": 7,
   "id": "0d29e4b0",
   "metadata": {},
   "outputs": [
    {
     "name": "stdout",
     "output_type": "stream",
     "text": [
      "niko says woof!\n"
     ]
    }
   ],
   "source": [
    "print(niko.speak())"
   ]
  },
  {
   "cell_type": "code",
   "execution_count": 8,
   "id": "a179a8a2",
   "metadata": {},
   "outputs": [
    {
     "name": "stdout",
     "output_type": "stream",
     "text": [
      "felix says meow!\n"
     ]
    }
   ],
   "source": [
    "print(felix.speak())"
   ]
  },
  {
   "cell_type": "code",
   "execution_count": 9,
   "id": "eaf30fae",
   "metadata": {},
   "outputs": [],
   "source": [
    "#As duas classes tem o objeto SPEAK"
   ]
  },
  {
   "cell_type": "code",
   "execution_count": 10,
   "id": "03804493",
   "metadata": {},
   "outputs": [],
   "source": [
    "#DEMONSTRANDO POLIMORPHISM:"
   ]
  },
  {
   "cell_type": "code",
   "execution_count": 11,
   "id": "a39d90b8",
   "metadata": {},
   "outputs": [
    {
     "name": "stdout",
     "output_type": "stream",
     "text": [
      "niko says woof!\n",
      "felix says meow!\n"
     ]
    }
   ],
   "source": [
    "for name in [niko,felix]:\n",
    "    print(name.speak())"
   ]
  },
  {
   "cell_type": "code",
   "execution_count": 165,
   "id": "10924857",
   "metadata": {},
   "outputs": [],
   "source": [
    "#com funções"
   ]
  },
  {
   "cell_type": "code",
   "execution_count": 166,
   "id": "e34595bf",
   "metadata": {},
   "outputs": [
    {
     "name": "stdout",
     "output_type": "stream",
     "text": [
      "niko says woof!\n",
      "felix says meow!\n"
     ]
    }
   ],
   "source": [
    "def pet_speak(pet):\n",
    "    print(pet.speak())\n",
    "\n",
    "pet_speak(niko)\n",
    "pet_speak(felix)"
   ]
  },
  {
   "cell_type": "code",
   "execution_count": 168,
   "id": "fbcbd02f",
   "metadata": {},
   "outputs": [],
   "source": [
    "class Animal:\n",
    "    def __init__(self, name):    # Constructor of the class\n",
    "        self.name = name\n",
    "\n",
    "    def speak(self):              # Abstract method, defined by convention only\n",
    "        raise NotImplementedError(\"Subclass must implement abstract method\")"
   ]
  },
  {
   "cell_type": "code",
   "execution_count": 171,
   "id": "78c0ed08",
   "metadata": {},
   "outputs": [],
   "source": [
    "class Dog(Animal):\n",
    "    \n",
    "    def speak(self):\n",
    "        return self.name+' says Woof!'\n",
    "    \n",
    "class Cat(Animal):\n",
    "\n",
    "    def speak(self):\n",
    "        return self.name +' says Meow!'"
   ]
  },
  {
   "cell_type": "code",
   "execution_count": 172,
   "id": "97542241",
   "metadata": {},
   "outputs": [
    {
     "name": "stdout",
     "output_type": "stream",
     "text": [
      "Fido says Woof!\n",
      "Isis says Meow!\n"
     ]
    }
   ],
   "source": [
    "fido = Dog('Fido')\n",
    "isis = Cat('Isis')\n",
    "\n",
    "print(fido.speak())\n",
    "print(isis.speak())"
   ]
  },
  {
   "cell_type": "code",
   "execution_count": 173,
   "id": "0730cf1f",
   "metadata": {},
   "outputs": [],
   "source": [
    "#Special (Magic/Dunder) Methods"
   ]
  },
  {
   "cell_type": "code",
   "execution_count": 176,
   "id": "e8d7453a",
   "metadata": {},
   "outputs": [],
   "source": [
    "class Book():\n",
    "    def __init__(self, title, author, pages):\n",
    "        \n",
    "        self.title = title\n",
    "        self.author = author\n",
    "        self.pages = pages"
   ]
  },
  {
   "cell_type": "code",
   "execution_count": 177,
   "id": "71679bef",
   "metadata": {},
   "outputs": [],
   "source": [
    "b = Book('PY','Vini',300)"
   ]
  },
  {
   "cell_type": "code",
   "execution_count": 178,
   "id": "02f1b9c2",
   "metadata": {},
   "outputs": [
    {
     "name": "stdout",
     "output_type": "stream",
     "text": [
      "<__main__.Book object at 0x000002D19DB88A10>\n"
     ]
    }
   ],
   "source": [
    "print(b)"
   ]
  },
  {
   "cell_type": "code",
   "execution_count": 199,
   "id": "d1055d43",
   "metadata": {},
   "outputs": [],
   "source": [
    "class Book():\n",
    "    def __init__(self, title, author, pages):\n",
    "        \n",
    "        self.title = title\n",
    "        self.author = author\n",
    "        self.pages = pages\n",
    "        #STR\n",
    "        #método especial para printar(se alguma função pedir a representação em str de algo, ela vai mostrar o que essa função programa):\n",
    "    def __str__(self):# quando eu pedir para printa ela mostra:\n",
    "        return f\"{self.title} by {self.author} has {self.pages} pages\"\n",
    "    #LENGHT\n",
    "    def __len__(self):\n",
    "        return self.pages\n",
    "    #DEL\n",
    "    def __del__(self):\n",
    "        print(\"A book is destroyed\")"
   ]
  },
  {
   "cell_type": "code",
   "execution_count": 200,
   "id": "735defb3",
   "metadata": {},
   "outputs": [],
   "source": [
    "b = Book('PY','Vini',300)"
   ]
  },
  {
   "cell_type": "code",
   "execution_count": 201,
   "id": "c6007438",
   "metadata": {},
   "outputs": [
    {
     "name": "stdout",
     "output_type": "stream",
     "text": [
      "PY by Vini has 300 pages\n"
     ]
    }
   ],
   "source": [
    "print(b)"
   ]
  },
  {
   "cell_type": "code",
   "execution_count": 202,
   "id": "cedf2b23",
   "metadata": {},
   "outputs": [
    {
     "data": {
      "text/plain": [
       "300"
      ]
     },
     "execution_count": 202,
     "metadata": {},
     "output_type": "execute_result"
    }
   ],
   "source": [
    "len(b)"
   ]
  },
  {
   "cell_type": "code",
   "execution_count": 203,
   "id": "a31a4b12",
   "metadata": {},
   "outputs": [
    {
     "name": "stdout",
     "output_type": "stream",
     "text": [
      "A book is destroyed\n"
     ]
    }
   ],
   "source": [
    "del b #deletar a variável b da memória do computador"
   ]
  },
  {
   "cell_type": "code",
   "execution_count": 205,
   "id": "d43e6002",
   "metadata": {},
   "outputs": [
    {
     "ename": "NameError",
     "evalue": "name 'b' is not defined",
     "output_type": "error",
     "traceback": [
      "\u001b[1;31m---------------------------------------------------------------------------\u001b[0m",
      "\u001b[1;31mNameError\u001b[0m                                 Traceback (most recent call last)",
      "Cell \u001b[1;32mIn[205], line 1\u001b[0m\n\u001b[1;32m----> 1\u001b[0m b\n",
      "\u001b[1;31mNameError\u001b[0m: name 'b' is not defined"
     ]
    }
   ],
   "source": [
    "b #foi deletado"
   ]
  },
  {
   "cell_type": "code",
   "execution_count": 206,
   "id": "deb1bc2a",
   "metadata": {},
   "outputs": [],
   "source": [
    "#PROBLEM 1"
   ]
  },
  {
   "cell_type": "code",
   "execution_count": 207,
   "id": "b40a26ff",
   "metadata": {},
   "outputs": [],
   "source": [
    "#Fill in the Line class methods to accept coordinates as a pair of tuples and return the slope and distance of the line."
   ]
  },
  {
   "cell_type": "code",
   "execution_count": 235,
   "id": "2bb6d79f",
   "metadata": {},
   "outputs": [
    {
     "ename": "SyntaxError",
     "evalue": "invalid decimal literal (1361716679.py, line 8)",
     "output_type": "error",
     "traceback": [
      "\u001b[1;36m  Cell \u001b[1;32mIn[235], line 8\u001b[1;36m\u001b[0m\n\u001b[1;33m    return ((x2-x1)**2 + (y2-y1)**2)**0.5s\u001b[0m\n\u001b[1;37m                                        ^\u001b[0m\n\u001b[1;31mSyntaxError\u001b[0m\u001b[1;31m:\u001b[0m invalid decimal literal\n"
     ]
    }
   ],
   "source": [
    "class Line():\n",
    "    def __init__(self, coor1, coor2): #unpacking de tuplas\n",
    "        self.coor1 = coor1 \n",
    "        self.coor2 = coor2\n",
    "    def distance(self):\n",
    "        x1,y1 = self.coor1\n",
    "        x2,y2 = self.coor2\n",
    "        return ((x2-x1)**2 + (y2-y1)**2)**0.5s\n",
    "    \n",
    "    def slope(self):\n",
    "        x1,y1 = self.coor1\n",
    "        x2,y2 = self.coor2\n",
    "        return (y2-y1)/(x2-x1)"
   ]
  },
  {
   "cell_type": "code",
   "execution_count": 236,
   "id": "f5611f0f",
   "metadata": {},
   "outputs": [],
   "source": [
    "coordinate1 = (3,2)\n",
    "coordinate2 = (8,10)\n",
    "#unpacking de tuplas\n",
    "li = Line(coordinate1,coordinate2)"
   ]
  },
  {
   "cell_type": "code",
   "execution_count": 237,
   "id": "2c396128",
   "metadata": {},
   "outputs": [
    {
     "data": {
      "text/plain": [
       "9.433981132056603"
      ]
     },
     "execution_count": 237,
     "metadata": {},
     "output_type": "execute_result"
    }
   ],
   "source": [
    "li.distance()"
   ]
  },
  {
   "cell_type": "code",
   "execution_count": 238,
   "id": "a192f68a",
   "metadata": {},
   "outputs": [
    {
     "data": {
      "text/plain": [
       "1.6"
      ]
     },
     "execution_count": 238,
     "metadata": {},
     "output_type": "execute_result"
    }
   ],
   "source": [
    "li.slope()"
   ]
  },
  {
   "cell_type": "code",
   "execution_count": 239,
   "id": "4d8988c9",
   "metadata": {},
   "outputs": [],
   "source": [
    "#PROBLEM 2"
   ]
  },
  {
   "cell_type": "code",
   "execution_count": 240,
   "id": "5b7e533f",
   "metadata": {},
   "outputs": [],
   "source": [
    "class Cylinder:\n",
    "    \n",
    "    def __init__(self,height=1,radius=1):\n",
    "        self.height = height\n",
    "        self.radius = radius\n",
    "        \n",
    "    def volume(self):\n",
    "        return self.height*3.14*(self.radius)**2 #como esses argumentos não são globais, eles precisam do 'self.'\n",
    "    \n",
    "    def surface_area(self):\n",
    "        top = 3.14 * (self.radius)**2\n",
    "        return (2*top) + (2*3.14*self.radius*self.height)"
   ]
  },
  {
   "cell_type": "code",
   "execution_count": 241,
   "id": "5ac34be4",
   "metadata": {},
   "outputs": [],
   "source": [
    "c = Cylinder(2,3)"
   ]
  },
  {
   "cell_type": "code",
   "execution_count": 242,
   "id": "ef278a63",
   "metadata": {},
   "outputs": [
    {
     "data": {
      "text/plain": [
       "56.52"
      ]
     },
     "execution_count": 242,
     "metadata": {},
     "output_type": "execute_result"
    }
   ],
   "source": [
    "c.volume()"
   ]
  },
  {
   "cell_type": "code",
   "execution_count": 243,
   "id": "6d4639a9",
   "metadata": {},
   "outputs": [
    {
     "data": {
      "text/plain": [
       "94.2"
      ]
     },
     "execution_count": 243,
     "metadata": {},
     "output_type": "execute_result"
    }
   ],
   "source": [
    "c.surface_area()"
   ]
  },
  {
   "cell_type": "code",
   "execution_count": 244,
   "id": "26bc81c8",
   "metadata": {},
   "outputs": [],
   "source": [
    "#DESAFIO"
   ]
  },
  {
   "cell_type": "code",
   "execution_count": 250,
   "id": "ac382255",
   "metadata": {},
   "outputs": [],
   "source": [
    "class Account:\n",
    "    def __init__(self,owner,balance=0):\n",
    "        self.owner = owner\n",
    "        self.balance = balance\n",
    "        \n",
    "    def __str__(self):\n",
    "        return f'Account owner: {self.owner}\\nAccount balance: ${self.balance}' #output de um texto, pode usar isso ou o .format()\n",
    "        \n",
    "    def deposit(self,dep_amt):\n",
    "        self.balance += dep_amt\n",
    "        print('Deposit Accepted')\n",
    "        \n",
    "    def withdraw(self,wd_amt):\n",
    "        if self.balance >= wd_amt:\n",
    "            self.balance -= wd_amt\n",
    "            print('Withdrawal Accepted')\n",
    "        else:\n",
    "            print('Funds Unavailable!')"
   ]
  },
  {
   "cell_type": "code",
   "execution_count": 251,
   "id": "57e9fa67",
   "metadata": {},
   "outputs": [],
   "source": [
    "# 1. Instantiate the class\n",
    "acct1 = Account('Jose',100)"
   ]
  },
  {
   "cell_type": "code",
   "execution_count": 252,
   "id": "cc6dfce6",
   "metadata": {},
   "outputs": [
    {
     "name": "stdout",
     "output_type": "stream",
     "text": [
      "Account owner: Jose\n",
      "Account balance: $100\n"
     ]
    }
   ],
   "source": [
    "# 2. Print the object\n",
    "print(acct1)"
   ]
  },
  {
   "cell_type": "code",
   "execution_count": 253,
   "id": "1b86f1e5",
   "metadata": {},
   "outputs": [
    {
     "data": {
      "text/plain": [
       "'Jose'"
      ]
     },
     "execution_count": 253,
     "metadata": {},
     "output_type": "execute_result"
    }
   ],
   "source": [
    "# 3. Show the account owner attribute\n",
    "acct1.owner"
   ]
  },
  {
   "cell_type": "code",
   "execution_count": 249,
   "id": "70b76a8d",
   "metadata": {},
   "outputs": [
    {
     "name": "stdout",
     "output_type": "stream",
     "text": [
      "Deposit Accepted\n"
     ]
    }
   ],
   "source": [
    "# 5. Make a series of deposits and withdrawals\n",
    "acct1.deposit(50)"
   ]
  },
  {
   "cell_type": "code",
   "execution_count": 254,
   "id": "29ba199e",
   "metadata": {},
   "outputs": [
    {
     "name": "stdout",
     "output_type": "stream",
     "text": [
      "Withdrawal Accepted\n"
     ]
    }
   ],
   "source": [
    "acct1.withdraw(75)"
   ]
  },
  {
   "cell_type": "code",
   "execution_count": 255,
   "id": "41734125",
   "metadata": {},
   "outputs": [
    {
     "name": "stdout",
     "output_type": "stream",
     "text": [
      "Funds Unavailable!\n"
     ]
    }
   ],
   "source": [
    "# 6. Make a withdrawal that exceeds the available balance\n",
    "acct1.withdraw(500)"
   ]
  },
  {
   "cell_type": "code",
   "execution_count": 282,
   "id": "98d424ba",
   "metadata": {},
   "outputs": [],
   "source": [
    "class Acount():\n",
    "    def __init__(self, owner, balance = 0):\n",
    "        self.owner = owner\n",
    "        self.balance = balance\n",
    "    \n",
    "    def deposit(self, dept_amt):\n",
    "        self.dept_amt = self.balance + dept_amt\n",
    "        print(f'{dept_amt} foi adicionado á conta')\n",
    "        \n",
    "    def withdrawal(self, wth_amt):\n",
    "        if self.balance >= wth_amt:\n",
    "            self.balance = self.balance - wth_amt\n",
    "            print('Sacada aprovada')\n",
    "        else:\n",
    "            print('Sem fundos suficientes')\n",
    "    def __str__(self): #ele só carrega a mensagem\n",
    "        return f'Dono:{self.owner}; Saldo = {self.balance}'"
   ]
  },
  {
   "cell_type": "code",
   "execution_count": 283,
   "id": "b1914b77",
   "metadata": {},
   "outputs": [],
   "source": [
    "conta1 = Account('Vini', 1000)"
   ]
  },
  {
   "cell_type": "code",
   "execution_count": 284,
   "id": "70cbbb2c",
   "metadata": {},
   "outputs": [
    {
     "name": "stdout",
     "output_type": "stream",
     "text": [
      "Account owner: Vini\n",
      "Account balance: $1000\n"
     ]
    }
   ],
   "source": [
    "print(conta1)"
   ]
  },
  {
   "cell_type": "code",
   "execution_count": 285,
   "id": "9f2f40d6",
   "metadata": {},
   "outputs": [
    {
     "data": {
      "text/plain": [
       "'Vini'"
      ]
     },
     "execution_count": 285,
     "metadata": {},
     "output_type": "execute_result"
    }
   ],
   "source": [
    "conta1.owner"
   ]
  },
  {
   "cell_type": "code",
   "execution_count": 286,
   "id": "851846b0",
   "metadata": {},
   "outputs": [
    {
     "data": {
      "text/plain": [
       "1000"
      ]
     },
     "execution_count": 286,
     "metadata": {},
     "output_type": "execute_result"
    }
   ],
   "source": [
    "conta1.balance"
   ]
  },
  {
   "cell_type": "code",
   "execution_count": 288,
   "id": "ff40b295",
   "metadata": {},
   "outputs": [
    {
     "ename": "AttributeError",
     "evalue": "'Account' object has no attribute 'deposito'",
     "output_type": "error",
     "traceback": [
      "\u001b[1;31m---------------------------------------------------------------------------\u001b[0m",
      "\u001b[1;31mAttributeError\u001b[0m                            Traceback (most recent call last)",
      "Cell \u001b[1;32mIn[288], line 1\u001b[0m\n\u001b[1;32m----> 1\u001b[0m conta1\u001b[38;5;241m.\u001b[39mdeposito(\u001b[38;5;241m50\u001b[39m)\n",
      "\u001b[1;31mAttributeError\u001b[0m: 'Account' object has no attribute 'deposito'"
     ]
    }
   ],
   "source": [
    "conta1.deposito(50)"
   ]
  },
  {
   "cell_type": "code",
   "execution_count": null,
   "id": "4d49905a",
   "metadata": {},
   "outputs": [],
   "source": []
  }
 ],
 "metadata": {
  "kernelspec": {
   "display_name": "Python 3 (ipykernel)",
   "language": "python",
   "name": "python3"
  },
  "language_info": {
   "codemirror_mode": {
    "name": "ipython",
    "version": 3
   },
   "file_extension": ".py",
   "mimetype": "text/x-python",
   "name": "python",
   "nbconvert_exporter": "python",
   "pygments_lexer": "ipython3",
   "version": "3.11.3"
  }
 },
 "nbformat": 4,
 "nbformat_minor": 5
}
