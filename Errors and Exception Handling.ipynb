{
 "cells": [
  {
   "cell_type": "code",
   "execution_count": 1,
   "id": "cf4ed167",
   "metadata": {},
   "outputs": [],
   "source": [
    "# Try(bloco de código que será testado) pode levar a um erro, exept(será executado caso o código do 'try' falhar) and finally(será executado, mesmo com error prévios)"
   ]
  },
  {
   "cell_type": "code",
   "execution_count": 3,
   "id": "c7fe40f8",
   "metadata": {},
   "outputs": [],
   "source": [
    "def add(n1, n2):\n",
    "    print(n1 + n2)"
   ]
  },
  {
   "cell_type": "code",
   "execution_count": 4,
   "id": "a1969224",
   "metadata": {},
   "outputs": [
    {
     "name": "stdout",
     "output_type": "stream",
     "text": [
      "30\n"
     ]
    }
   ],
   "source": [
    "add(10, 20)"
   ]
  },
  {
   "cell_type": "code",
   "execution_count": 6,
   "id": "d3ca4e98",
   "metadata": {},
   "outputs": [],
   "source": [
    "num1 = 10"
   ]
  },
  {
   "cell_type": "code",
   "execution_count": 7,
   "id": "871e5a86",
   "metadata": {},
   "outputs": [
    {
     "name": "stdout",
     "output_type": "stream",
     "text": [
      "please provide a numeber:20\n"
     ]
    }
   ],
   "source": [
    "num2 = input('please provide a numeber:')"
   ]
  },
  {
   "cell_type": "code",
   "execution_count": 8,
   "id": "3d5a129e",
   "metadata": {},
   "outputs": [
    {
     "ename": "TypeError",
     "evalue": "unsupported operand type(s) for +: 'int' and 'str'",
     "output_type": "error",
     "traceback": [
      "\u001b[1;31m---------------------------------------------------------------------------\u001b[0m",
      "\u001b[1;31mTypeError\u001b[0m                                 Traceback (most recent call last)",
      "Cell \u001b[1;32mIn[8], line 1\u001b[0m\n\u001b[1;32m----> 1\u001b[0m add(num1, num2)\n",
      "Cell \u001b[1;32mIn[3], line 2\u001b[0m, in \u001b[0;36madd\u001b[1;34m(n1, n2)\u001b[0m\n\u001b[0;32m      1\u001b[0m \u001b[38;5;28;01mdef\u001b[39;00m \u001b[38;5;21madd\u001b[39m(n1, n2):\n\u001b[1;32m----> 2\u001b[0m     \u001b[38;5;28mprint\u001b[39m(n1 \u001b[38;5;241m+\u001b[39m n2)\n",
      "\u001b[1;31mTypeError\u001b[0m: unsupported operand type(s) for +: 'int' and 'str'"
     ]
    }
   ],
   "source": [
    "add(num1, num2)\n",
    "print('something happened')"
   ]
  },
  {
   "cell_type": "code",
   "execution_count": 9,
   "id": "ebb978ae",
   "metadata": {},
   "outputs": [],
   "source": [
    "try:\n",
    "    #pode ter um erro\n",
    "    result = 10 + 10\n",
    "except:\n",
    "    print('You are not adding correctly')"
   ]
  },
  {
   "cell_type": "code",
   "execution_count": 10,
   "id": "a016db98",
   "metadata": {},
   "outputs": [
    {
     "data": {
      "text/plain": [
       "20"
      ]
     },
     "execution_count": 10,
     "metadata": {},
     "output_type": "execute_result"
    }
   ],
   "source": [
    "result"
   ]
  },
  {
   "cell_type": "code",
   "execution_count": 12,
   "id": "cbea8e7c",
   "metadata": {},
   "outputs": [
    {
     "name": "stdout",
     "output_type": "stream",
     "text": [
      "You are not adding correctly\n"
     ]
    }
   ],
   "source": [
    "try:\n",
    "    #pode ter um erro\n",
    "    result = 10 + '10'\n",
    "except:\n",
    "    print('You are not adding correctly') # o código é executado da mesma forma\n",
    "else:\n",
    "    print('You added correcly!')\n",
    "    print(result)"
   ]
  },
  {
   "cell_type": "code",
   "execution_count": 14,
   "id": "a3185a29",
   "metadata": {},
   "outputs": [
    {
     "name": "stdout",
     "output_type": "stream",
     "text": [
      "You added correcly!\n",
      "Result = 20\n"
     ]
    }
   ],
   "source": [
    "try:\n",
    "    #pode ter um erro\n",
    "    result = 10 + 10\n",
    "except:\n",
    "    print('You are not adding correctly') # o código é executado da mesma forma\n",
    "else:\n",
    "    print('You added correcly!')\n",
    "    print(f'Result = {result}')"
   ]
  },
  {
   "cell_type": "code",
   "execution_count": 15,
   "id": "c536d8f5",
   "metadata": {},
   "outputs": [
    {
     "name": "stdout",
     "output_type": "stream",
     "text": [
      "You added correcly!\n",
      "Result = 20\n"
     ]
    }
   ],
   "source": [
    "try:\n",
    "    #pode ter um erro\n",
    "    result = 10 + 10\n",
    "except:\n",
    "    print('You are not adding correctly') # o código é executado da mesma forma\n",
    "else:\n",
    "    print('You added correcly!')\n",
    "    print(f'Result = {result}')"
   ]
  },
  {
   "cell_type": "code",
   "execution_count": 37,
   "id": "9777e3bb",
   "metadata": {},
   "outputs": [
    {
     "ename": "IndentationError",
     "evalue": "unexpected indent (3145519150.py, line 8)",
     "output_type": "error",
     "traceback": [
      "\u001b[1;36m  Cell \u001b[1;32mIn[37], line 8\u001b[1;36m\u001b[0m\n\u001b[1;33m    else:\u001b[0m\n\u001b[1;37m    ^\u001b[0m\n\u001b[1;31mIndentationError\u001b[0m\u001b[1;31m:\u001b[0m unexpected indent\n"
     ]
    }
   ],
   "source": [
    "def ask_for_int():\n",
    "    while True: # vai repetir até o resultado for aceito(se o input for errado, a mensagem aparece denovo)\n",
    "        try:\n",
    "             result = int(input('please provide an int number:'))\n",
    "        except:\n",
    "             print('that is not a number')\n",
    "        continue\n",
    "          else: #significa que não ocorreu um erro\n",
    "                 print('int recebido!')\n",
    "                        break\n",
    "        finally:\n",
    "            print('Vou te perguntar denovo:')\n",
    "            print('--eu sempre rodarei(caso haja um erro--')"
   ]
  },
  {
   "cell_type": "code",
   "execution_count": 20,
   "id": "46a134ee",
   "metadata": {},
   "outputs": [
    {
     "name": "stdout",
     "output_type": "stream",
     "text": [
      "please provide number:word\n",
      "that is not a number\n",
      "end of function\n"
     ]
    }
   ],
   "source": [
    "ask_for_int()"
   ]
  },
  {
   "cell_type": "code",
   "execution_count": 29,
   "id": "4fac368f",
   "metadata": {},
   "outputs": [],
   "source": [
    "#EXERCISES"
   ]
  },
  {
   "cell_type": "code",
   "execution_count": 32,
   "id": "8cfe9dea",
   "metadata": {},
   "outputs": [
    {
     "name": "stdout",
     "output_type": "stream",
     "text": [
      "TypeError! Cuidado\n"
     ]
    }
   ],
   "source": [
    "try:\n",
    "    for i in ['a','b','c']:\n",
    "        print(i**2)\n",
    "except TypeError:\n",
    "    print('TypeError! Cuidado')"
   ]
  },
  {
   "cell_type": "code",
   "execution_count": 33,
   "id": "dea90c6a",
   "metadata": {},
   "outputs": [
    {
     "name": "stdout",
     "output_type": "stream",
     "text": [
      "Can't divide by Zero!\n",
      "All Done!\n"
     ]
    }
   ],
   "source": [
    "x = 5\n",
    "y = 0\n",
    "try:\n",
    "    z = x/y\n",
    "except ZeroDivisionError:\n",
    "    print(\"Can't divide by Zero!\")\n",
    "finally:\n",
    "    print('All Done!')"
   ]
  },
  {
   "cell_type": "code",
   "execution_count": 42,
   "id": "b0a3b1e6",
   "metadata": {},
   "outputs": [],
   "source": [
    "def ask():\n",
    "    while True:\n",
    "        try:\n",
    "            n = int(input('Input an integer: '))\n",
    "            result = n**2\n",
    "        except: #garente o loop\n",
    "            print('An error occurred! Please try again!')\n",
    "            continue\n",
    "        else:\n",
    "            break\n",
    "            \n",
    "        \n",
    "    print(f'Thank you, your number squared is: {result}')"
   ]
  },
  {
   "cell_type": "code",
   "execution_count": null,
   "id": "46eb7404",
   "metadata": {},
   "outputs": [],
   "source": [
    "ask()"
   ]
  },
  {
   "cell_type": "code",
   "execution_count": null,
   "id": "e2bcd182",
   "metadata": {},
   "outputs": [],
   "source": [
    "2"
   ]
  },
  {
   "cell_type": "code",
   "execution_count": 1,
   "id": "03de453f",
   "metadata": {},
   "outputs": [],
   "source": [
    "def pergunta():\n",
    "    while True:\n",
    "        try:\n",
    "            result = int(input('Insira um número inteiro:'))\n",
    "        except:\n",
    "            print('Ocorreu um erro! Tente novamente')\n",
    "            continue\n",
    "        else:\n",
    "            print('Numero recebido com sucesso!')\n",
    "            break"
   ]
  },
  {
   "cell_type": "code",
   "execution_count": 2,
   "id": "b9e7cc83",
   "metadata": {},
   "outputs": [
    {
     "name": "stdout",
     "output_type": "stream",
     "text": [
      "Insira um número inteiro:2\n",
      "Numero recebido com sucesso!\n"
     ]
    }
   ],
   "source": [
    "pergunta()"
   ]
  },
  {
   "cell_type": "code",
   "execution_count": null,
   "id": "7c617a6b",
   "metadata": {},
   "outputs": [],
   "source": []
  }
 ],
 "metadata": {
  "kernelspec": {
   "display_name": "Python 3 (ipykernel)",
   "language": "python",
   "name": "python3"
  },
  "language_info": {
   "codemirror_mode": {
    "name": "ipython",
    "version": 3
   },
   "file_extension": ".py",
   "mimetype": "text/x-python",
   "name": "python",
   "nbconvert_exporter": "python",
   "pygments_lexer": "ipython3",
   "version": "3.11.3"
  }
 },
 "nbformat": 4,
 "nbformat_minor": 5
}
