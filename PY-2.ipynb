{
 "cells": [
  {
   "cell_type": "code",
   "execution_count": 1,
   "id": "4d46bafa",
   "metadata": {},
   "outputs": [],
   "source": [
    "# Como escrever um text file"
   ]
  },
  {
   "cell_type": "code",
   "execution_count": 2,
   "id": "bf3e6539",
   "metadata": {
    "scrolled": true
   },
   "outputs": [
    {
     "name": "stdout",
     "output_type": "stream",
     "text": [
      "Writing myfile.txt\n"
     ]
    }
   ],
   "source": [
    "%%writefile myfile.txt\n",
    "Hello, this a a text file\n",
    "this is the second line\n",
    "this is the third line"
   ]
  },
  {
   "cell_type": "code",
   "execution_count": 3,
   "id": "b2046ce5",
   "metadata": {},
   "outputs": [],
   "source": [
    "myfile = open('myfile.txt')"
   ]
  },
  {
   "cell_type": "code",
   "execution_count": 4,
   "id": "2bc09490",
   "metadata": {},
   "outputs": [
    {
     "data": {
      "text/plain": [
       "'C:\\\\Users\\\\vinicius.luz'"
      ]
     },
     "execution_count": 4,
     "metadata": {},
     "output_type": "execute_result"
    }
   ],
   "source": [
    "pwd #onde esse arquivo está rodando e sendo armazenado, também é onde todos os sheets que escrevo vão para."
   ]
  },
  {
   "cell_type": "code",
   "execution_count": 5,
   "id": "19519e0a",
   "metadata": {},
   "outputs": [
    {
     "data": {
      "text/plain": [
       "'Hello, this a a text file\\nthis is the second line\\nthis is the third line\\n'"
      ]
     },
     "execution_count": 5,
     "metadata": {},
     "output_type": "execute_result"
    }
   ],
   "source": [
    "myfile.read() #entrega tudo no file em uma str"
   ]
  },
  {
   "cell_type": "code",
   "execution_count": 8,
   "id": "10035e85",
   "metadata": {},
   "outputs": [
    {
     "data": {
      "text/plain": [
       "0"
      ]
     },
     "execution_count": 8,
     "metadata": {},
     "output_type": "execute_result"
    }
   ],
   "source": [
    "myfile.seek(0) # ler tudo denovo"
   ]
  },
  {
   "cell_type": "code",
   "execution_count": 10,
   "id": "fc35ada6",
   "metadata": {},
   "outputs": [
    {
     "data": {
      "text/plain": [
       "'this is the second line\\n'"
      ]
     },
     "execution_count": 10,
     "metadata": {},
     "output_type": "execute_result"
    }
   ],
   "source": [
    "myfile.readline() # puxa uma lista onde cada elemento é uma linha"
   ]
  },
  {
   "cell_type": "code",
   "execution_count": 11,
   "id": "7bd523f9",
   "metadata": {},
   "outputs": [
    {
     "data": {
      "text/plain": [
       "'C:\\\\Users\\\\vinicius.luz'"
      ]
     },
     "execution_count": 11,
     "metadata": {},
     "output_type": "execute_result"
    }
   ],
   "source": [
    "pwd\n"
   ]
  },
  {
   "cell_type": "code",
   "execution_count": 12,
   "id": "982a464b",
   "metadata": {},
   "outputs": [],
   "source": [
    "myfile.close()"
   ]
  },
  {
   "cell_type": "code",
   "execution_count": 13,
   "id": "18e01777",
   "metadata": {},
   "outputs": [],
   "source": [
    "with open ('myfile.txt') as my_new_file:\n",
    "    contents = my_new_file.read()"
   ]
  },
  {
   "cell_type": "code",
   "execution_count": 14,
   "id": "9b56b6db",
   "metadata": {},
   "outputs": [
    {
     "data": {
      "text/plain": [
       "'Hello, this a a text file\\nthis is the second line\\nthis is the third line\\n'"
      ]
     },
     "execution_count": 14,
     "metadata": {},
     "output_type": "execute_result"
    }
   ],
   "source": [
    "contents"
   ]
  },
  {
   "cell_type": "code",
   "execution_count": 15,
   "id": "3c74514e",
   "metadata": {},
   "outputs": [],
   "source": [
    "with open('myfile.txt', mode ='r') as myfile:\n",
    "    contents = myfile.read()"
   ]
  },
  {
   "cell_type": "code",
   "execution_count": 16,
   "id": "7be923c8",
   "metadata": {},
   "outputs": [
    {
     "data": {
      "text/plain": [
       "'Hello, this a a text file\\nthis is the second line\\nthis is the third line\\n'"
      ]
     },
     "execution_count": 16,
     "metadata": {},
     "output_type": "execute_result"
    }
   ],
   "source": [
    "contents"
   ]
  },
  {
   "cell_type": "code",
   "execution_count": 18,
   "id": "62306375",
   "metadata": {},
   "outputs": [],
   "source": [
    "# mode, é o que voce quer fazer com o arquivo(FOTO NO CELULAR SOBRE OS MODOS)"
   ]
  },
  {
   "cell_type": "code",
   "execution_count": 19,
   "id": "c9135ece",
   "metadata": {},
   "outputs": [
    {
     "name": "stdout",
     "output_type": "stream",
     "text": [
      "Overwriting myfile.txt\n"
     ]
    }
   ],
   "source": [
    "%%writefile myfile.txt\n",
    "Hello, this a a text file\n",
    "this is the second line\n",
    "this is the third line\n",
    "this is the forth line"
   ]
  },
  {
   "cell_type": "code",
   "execution_count": 20,
   "id": "dcae25fa",
   "metadata": {},
   "outputs": [
    {
     "name": "stdout",
     "output_type": "stream",
     "text": [
      "Hello, this a a text file\n",
      "this is the second line\n",
      "this is the third line\n",
      "this is the forth line\n",
      "\n"
     ]
    }
   ],
   "source": [
    "with open('myfile.txt', mode ='r') as f:\n",
    "    print(f.read())"
   ]
  },
  {
   "cell_type": "code",
   "execution_count": 23,
   "id": "e294985b",
   "metadata": {},
   "outputs": [],
   "source": [
    "with open('myfile.txt', mode ='a') as f:\n",
    "    f.write('\\nthis is the fitfth line')"
   ]
  },
  {
   "cell_type": "code",
   "execution_count": 24,
   "id": "b0a1ade1",
   "metadata": {},
   "outputs": [
    {
     "name": "stdout",
     "output_type": "stream",
     "text": [
      "Hello, this a a text file\n",
      "this is the second line\n",
      "this is the third line\n",
      "this is the forth line\n",
      "\n",
      "this is the fitfth line\n",
      "this is the fitfth line\n"
     ]
    }
   ],
   "source": [
    "with open('myfile.txt', mode ='r') as f:\n",
    "    print(f.read())"
   ]
  },
  {
   "cell_type": "code",
   "execution_count": 25,
   "id": "bdfcfd4d",
   "metadata": {},
   "outputs": [],
   "source": [
    "with open('dqiunuiej.txt', mode = 'w') as f:\n",
    "    f.write('I created this file')"
   ]
  },
  {
   "cell_type": "code",
   "execution_count": 26,
   "id": "5d5a21aa",
   "metadata": {},
   "outputs": [
    {
     "name": "stdout",
     "output_type": "stream",
     "text": [
      "I created this file\n"
     ]
    }
   ],
   "source": [
    "with open('dqiunuiej.txt', mode ='r') as f:\n",
    "    print(f.read())"
   ]
  },
  {
   "cell_type": "code",
   "execution_count": 27,
   "id": "94b81cd9",
   "metadata": {},
   "outputs": [],
   "source": [
    "# x = open('myfile.txt', 'w')\n",
    "#x.write('This is my file')\n",
    "#x.close()"
   ]
  },
  {
   "cell_type": "code",
   "execution_count": 30,
   "id": "29a2c773",
   "metadata": {},
   "outputs": [],
   "source": [
    "with open ('myfile.txt', mode = 'w') as myfile:\n",
    "      myfile.write('Oi oi')"
   ]
  },
  {
   "cell_type": "code",
   "execution_count": 31,
   "id": "1f34e057",
   "metadata": {},
   "outputs": [
    {
     "name": "stdout",
     "output_type": "stream",
     "text": [
      "Oi oi\n"
     ]
    }
   ],
   "source": [
    "with open('myfile.txt', mode = 'r') as myfile:\n",
    "    print(myfile.read())"
   ]
  },
  {
   "cell_type": "code",
   "execution_count": 32,
   "id": "36ef8ce3",
   "metadata": {},
   "outputs": [],
   "source": [
    "#ele da override"
   ]
  },
  {
   "cell_type": "code",
   "execution_count": 1,
   "id": "fed3b2d8",
   "metadata": {},
   "outputs": [],
   "source": [
    "#Operadores de comparação: And, or(só precisa que uma seja verdade) e not(retorna o oposto)"
   ]
  },
  {
   "cell_type": "code",
   "execution_count": 2,
   "id": "220f91d6",
   "metadata": {},
   "outputs": [
    {
     "data": {
      "text/plain": [
       "True"
      ]
     },
     "execution_count": 2,
     "metadata": {},
     "output_type": "execute_result"
    }
   ],
   "source": [
    "1 < 2 and 2<3"
   ]
  },
  {
   "cell_type": "code",
   "execution_count": 4,
   "id": "32c61f86",
   "metadata": {},
   "outputs": [
    {
     "data": {
      "text/plain": [
       "True"
      ]
     },
     "execution_count": 4,
     "metadata": {},
     "output_type": "execute_result"
    }
   ],
   "source": [
    "('h' == 'h') and (4>2)"
   ]
  },
  {
   "cell_type": "code",
   "execution_count": 5,
   "id": "5af1a95c",
   "metadata": {},
   "outputs": [
    {
     "data": {
      "text/plain": [
       "True"
      ]
     },
     "execution_count": 5,
     "metadata": {},
     "output_type": "execute_result"
    }
   ],
   "source": [
    "('h' != 'h') or (4>2)"
   ]
  },
  {
   "cell_type": "code",
   "execution_count": 6,
   "id": "2a46396a",
   "metadata": {},
   "outputs": [
    {
     "data": {
      "text/plain": [
       "False"
      ]
     },
     "execution_count": 6,
     "metadata": {},
     "output_type": "execute_result"
    }
   ],
   "source": [
    "not 1==1"
   ]
  },
  {
   "cell_type": "code",
   "execution_count": null,
   "id": "465521dd",
   "metadata": {},
   "outputs": [],
   "source": []
  }
 ],
 "metadata": {
  "kernelspec": {
   "display_name": "Python 3 (ipykernel)",
   "language": "python",
   "name": "python3"
  },
  "language_info": {
   "codemirror_mode": {
    "name": "ipython",
    "version": 3
   },
   "file_extension": ".py",
   "mimetype": "text/x-python",
   "name": "python",
   "nbconvert_exporter": "python",
   "pygments_lexer": "ipython3",
   "version": "3.11.3"
  }
 },
 "nbformat": 4,
 "nbformat_minor": 5
}
